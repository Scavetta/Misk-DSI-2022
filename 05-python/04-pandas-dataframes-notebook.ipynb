{
  "cells": [
    {
      "cell_type": "markdown",
      "metadata": {
        "id": "k23pm6f83Flg"
      },
      "source": [
        "## DataFrames with Pandas (Data Containers IV)\n",
        "\n",
        "- `pd.DataFrame({})` produces a DataFrame from a dictionary\n",
        "- `pd.DataFrame(dict(list(zip([],[]))))` produces a DataFrame from a list of names and list of lists"
      ]
    },
    {
      "cell_type": "code",
      "execution_count": null,
      "metadata": {},
      "outputs": [],
      "source": [
        "import pandas as pd\n",
        "import numpy as np"
      ]
    },
    {
      "cell_type": "code",
      "execution_count": null,
      "metadata": {
        "id": "-ybckpl43R70"
      },
      "outputs": [],
      "source": [
        "foo1 = [True, False, False, True, True, False]\n",
        "foo2 = [\"Liver\", \"Brain\", \"Testes\", \"Muscle\", \"Intestine\", \"Heart\"]\n",
        "foo3 = [13, 88, 1233, 55, 233, 18]"
      ]
    },
    {
      "cell_type": "code",
      "execution_count": null,
      "metadata": {
        "id": "nwS4wRGM3iSg"
      },
      "outputs": [],
      "source": [
        "# We have already imported pandas as pd\n",
        "# use a dictionary to get a data frame\n",
        "foo_df = pd.DataFrame({'healthy': foo1, \n",
        "                       'tissue': foo2, \n",
        "                       'quantity': foo3})"
      ]
    },
    {
      "cell_type": "code",
      "execution_count": null,
      "metadata": {
        "colab": {
          "base_uri": "https://localhost:8080/",
          "height": 233
        },
        "id": "3pZLmhaw35Sk",
        "outputId": "3afb2d73-7193-4777-a3a9-c037dc3a6ceb"
      },
      "outputs": [],
      "source": [
        "foo_df"
      ]
    },
    {
      "cell_type": "markdown",
      "metadata": {
        "id": "RJJjj5Be4EG3"
      },
      "source": [
        "**Exercise 4.1**"
      ]
    },
    {
      "cell_type": "code",
      "execution_count": null,
      "metadata": {},
      "outputs": [],
      "source": [
        "cities = ['Munich', 'Paris', 'Amsterdam', 'Madrid', 'Istanbul']\n",
        "dist = [584, 1054, 653, 2301, 2191]"
      ]
    },
    {
      "cell_type": "code",
      "execution_count": null,
      "metadata": {
        "colab": {
          "base_uri": "https://localhost:8080/",
          "height": 202
        },
        "id": "cA_Ma1rS4Ffs",
        "outputId": "f1e407a5-b847-49ce-c435-355adf2c6e59"
      },
      "outputs": [],
      "source": [
        "distDictDF = pd.DataFrame({\"City\": cities,\n",
        "                           \"Distance\": dist})\n",
        "distDictDF"
      ]
    },
    {
      "cell_type": "markdown",
      "metadata": {
        "id": "Plwa5G8p478d"
      },
      "source": [
        "#### From Lists (jsut as an example)"
      ]
    },
    {
      "cell_type": "code",
      "execution_count": null,
      "metadata": {
        "colab": {
          "base_uri": "https://localhost:8080/",
          "height": 71
        },
        "id": "rEISq4-Z4-YS",
        "outputId": "5aa37413-9e35-470a-c367-17a44bdb14f8"
      },
      "outputs": [],
      "source": [
        "# names\n",
        "list_names = ['healthy', 'tissue', 'quantity']\n",
        "\n",
        "# columns are a list of lists\n",
        "list_cols = [foo1, foo2, foo3]\n",
        "list_cols"
      ]
    },
    {
      "cell_type": "code",
      "execution_count": null,
      "metadata": {
        "colab": {
          "base_uri": "https://localhost:8080/",
          "height": 71
        },
        "id": "hvOL7qYI5VNW",
        "outputId": "4b1e3097-54b0-4648-a5f5-681a4b6c065f"
      },
      "outputs": [],
      "source": [
        "zip_list = list(zip(list_names, list_cols))\n",
        "zip_list"
      ]
    },
    {
      "cell_type": "code",
      "execution_count": null,
      "metadata": {
        "colab": {
          "base_uri": "https://localhost:8080/",
          "height": 71
        },
        "id": "ydw3mGDC5d9q",
        "outputId": "d30c2557-efb2-4acc-b53f-bf63e77dc7d4"
      },
      "outputs": [],
      "source": [
        "zip_dict = dict(zip_list)\n",
        "zip_dict # True dictionary"
      ]
    },
    {
      "cell_type": "code",
      "execution_count": null,
      "metadata": {
        "colab": {
          "base_uri": "https://localhost:8080/",
          "height": 233
        },
        "id": "6R-u-Hcc5eOz",
        "outputId": "1213320c-3272-4e4e-8bcc-5b45ca07a16f"
      },
      "outputs": [],
      "source": [
        "zip_df = pd.DataFrame(zip_dict)\n",
        "zip_df"
      ]
    },
    {
      "cell_type": "markdown",
      "metadata": {
        "id": "01VXYScj6b6o"
      },
      "source": [
        "### Working with DataFrames"
      ]
    },
    {
      "cell_type": "code",
      "execution_count": null,
      "metadata": {
        "colab": {
          "base_uri": "https://localhost:8080/",
          "height": 143
        },
        "id": "lfawX4hg6Y9U",
        "outputId": "66ac050a-180f-4622-eefe-3e8ec86c4cce"
      },
      "outputs": [],
      "source": [
        "foo_df['healthy'] #indexing by name, an individual column \"Series\", 1-dim array"
      ]
    },
    {
      "cell_type": "code",
      "execution_count": null,
      "metadata": {
        "colab": {
          "base_uri": "https://localhost:8080/",
          "height": 233
        },
        "id": "ugwLuJWY6XE0",
        "outputId": "89f0b8f2-f66b-4884-c109-2db32f56113d"
      },
      "outputs": [],
      "source": [
        "foo_df[['healthy']] # DataFrame with 1 column"
      ]
    },
    {
      "cell_type": "code",
      "execution_count": null,
      "metadata": {
        "colab": {
          "base_uri": "https://localhost:8080/",
          "height": 143
        },
        "id": "Fo6BWEE56375",
        "outputId": "fefcd281-9ee2-4b52-e805-338035356075"
      },
      "outputs": [],
      "source": [
        "foo_df.healthy # Get the Series using a `.` notation"
      ]
    },
    {
      "cell_type": "code",
      "execution_count": null,
      "metadata": {
        "colab": {
          "base_uri": "https://localhost:8080/",
          "height": 233
        },
        "id": "3Zc9r9sh7jer",
        "outputId": "c63c1fff-c02a-4c7f-d5e0-8f9bf67447a5"
      },
      "outputs": [],
      "source": [
        "# Add a new column and populate it with the value (which is recycled, i.e. \"broadcast\" over the length of the Series)\n",
        "foo_df['new'] = 0\n",
        "foo_df"
      ]
    },
    {
      "cell_type": "code",
      "execution_count": null,
      "metadata": {
        "colab": {
          "base_uri": "https://localhost:8080/",
          "height": 233
        },
        "id": "J5z94wn87l5D",
        "outputId": "f1e8a54b-06ca-4a8f-ba37-26a0d0158149"
      },
      "outputs": [],
      "source": [
        "# But this doesn't work\n",
        "foo_df.new2 = 4\n",
        "foo_df"
      ]
    },
    {
      "cell_type": "markdown",
      "metadata": {
        "id": "GWD69vFWBuf9"
      },
      "source": [
        "# Mini-case study - exercise 4.8"
      ]
    },
    {
      "cell_type": "code",
      "execution_count": null,
      "metadata": {
        "colab": {
          "base_uri": "https://localhost:8080/",
          "height": 202
        },
        "id": "wuv8Z6dELj4s",
        "outputId": "c7887ecd-a8d5-4b4a-b748-0e9b87dfb7d2"
      },
      "outputs": [],
      "source": [
        "import pandas as pd\n",
        "mtcars = pd.read_csv('../00-data/mtcars.csv')\n",
        "mtcars.head()"
      ]
    },
    {
      "cell_type": "markdown",
      "metadata": {
        "id": "sULLOJHIL3_6"
      },
      "source": [
        "1. Calculate the correlation between `mpg` and `wt` and test if it is significant."
      ]
    },
    {
      "cell_type": "code",
      "execution_count": null,
      "metadata": {
        "id": "68It7SPJL3Uq"
      },
      "outputs": [],
      "source": [
        "# corr() is not a function:\n",
        "# corr(mtcars['mpg'], mtcars['wt'])"
      ]
    },
    {
      "cell_type": "code",
      "execution_count": null,
      "metadata": {
        "colab": {
          "base_uri": "https://localhost:8080/",
          "height": 53
        },
        "id": "2rNcYxsyPVtk",
        "outputId": "f78e090f-9e11-41ab-c1b2-53daab6e8ca7"
      },
      "outputs": [],
      "source": [
        "# A correlation matrix\n",
        "cor_mat = mtcars.corr()\n",
        "cor_mat[['wt']].iloc[0]"
      ]
    },
    {
      "cell_type": "code",
      "execution_count": null,
      "metadata": {
        "colab": {
          "base_uri": "https://localhost:8080/",
          "height": 35
        },
        "id": "4in2ktTzQAA2",
        "outputId": "33100d18-145a-4752-f282-f891b281eb23"
      },
      "outputs": [],
      "source": [
        "# Targeted correlation between two Series in the DataFrame\n",
        "mtcars['mpg'].corr(mtcars['wt'])"
      ]
    },
    {
      "cell_type": "code",
      "execution_count": null,
      "metadata": {
        "colab": {
          "base_uri": "https://localhost:8080/",
          "height": 53
        },
        "id": "c9AsYzUgQUzl",
        "outputId": "70932f00-3fb9-4985-fac0-a8eea5da8975"
      },
      "outputs": [],
      "source": [
        "# Using NumPy\n",
        "r = np.corrcoef(mtcars['mpg'], mtcars['wt'])\n",
        "r"
      ]
    },
    {
      "cell_type": "code",
      "execution_count": null,
      "metadata": {
        "id": "cXJyzDrLQ1-A"
      },
      "outputs": [],
      "source": [
        "# import pingouin as pg \n",
        "# pg.corr(x=mtcars['mpg'], y=mtcars['wt'])"
      ]
    },
    {
      "cell_type": "code",
      "execution_count": null,
      "metadata": {
        "colab": {
          "base_uri": "https://localhost:8080/",
          "height": 35
        },
        "id": "0vFqLHQqRx1y",
        "outputId": "225b4d33-f18e-4a52-8d7d-8c94461db3d1"
      },
      "outputs": [],
      "source": [
        "import scipy.stats as stats\n",
        "stats.pearsonr(mtcars['mpg'], mtcars['wt'])"
      ]
    },
    {
      "cell_type": "markdown",
      "metadata": {
        "id": "_JIE_VeTL6fT"
      },
      "source": [
        "2. Visualize the relationship in an XY scatter plot (bonus points for a regression line).\n"
      ]
    },
    {
      "cell_type": "code",
      "execution_count": null,
      "metadata": {
        "colab": {
          "base_uri": "https://localhost:8080/",
          "height": 287
        },
        "id": "5WWbZyLRL_8c",
        "outputId": "e15efb65-44bc-4817-867a-b66f9a06a5dc"
      },
      "outputs": [],
      "source": [
        "# previously imported seaborn (see above)\n",
        "# sns.scatter(x=mtcars['mpg'], y=mtcars['wt'])\n",
        "\n",
        "import matplotlib.pyplot as plt # Low level plotting\n",
        "y = mtcars.mpg\n",
        "x = mtcars.wt\n",
        "plt.scatter(x,y)\n",
        "# plt.show()"
      ]
    },
    {
      "cell_type": "code",
      "execution_count": null,
      "metadata": {
        "colab": {
          "base_uri": "https://localhost:8080/",
          "height": 300
        },
        "id": "F3FCNyrJVQco",
        "outputId": "a60f9f74-00dc-4777-c165-ed8a1ef84991"
      },
      "outputs": [],
      "source": [
        "sns.regplot(x=\"wt\", y=\"mpg\", data = mtcars, ci=None)"
      ]
    },
    {
      "cell_type": "code",
      "execution_count": null,
      "metadata": {
        "colab": {
          "base_uri": "https://localhost:8080/",
          "height": 401
        },
        "id": "AVk_5j03VX4r",
        "outputId": "4e00b168-a460-43b5-f7b9-fe7efe72d19d"
      },
      "outputs": [],
      "source": [
        "sns.lmplot(x=\"wt\", y=\"mpg\", data=mtcars, ci=None)"
      ]
    },
    {
      "cell_type": "code",
      "execution_count": null,
      "metadata": {
        "id": "osiR-Q1jWHKZ"
      },
      "outputs": [],
      "source": [
        "# from sklearn.linear_model import LinearRegression\n",
        "# model = LinearRegression().fit(x, y)"
      ]
    },
    {
      "cell_type": "code",
      "execution_count": null,
      "metadata": {
        "colab": {
          "base_uri": "https://localhost:8080/",
          "height": 441
        },
        "id": "y6nX4odoWgk1",
        "outputId": "2538de1a-1d93-43d6-af90-0121ba6d5bdc"
      },
      "outputs": [],
      "source": [
        "from statsmodels.formula.api import ols\n",
        "model = ols(\"mpg ~ wt\", data=mtcars)\n",
        "results = model.fit()\n",
        "results.summary()"
      ]
    },
    {
      "cell_type": "markdown",
      "metadata": {
        "id": "U6BIstnjXK3f"
      },
      "source": [
        "For plotting:\n",
        "\n",
        "- Continuous vs continuous (i.e. scatter plot), but also\n",
        "- Continuous vs categorical, or \n",
        "- Categorical vs continuous\n",
        "\n",
        "**Y-Axis**\n",
        "- Dependent variable (i.e. _dependent_ on the indpendent variable)\n",
        "- Response (i.e. the _outcome_)\n",
        "- f(x) (i.e. y _as a function of_ x)\n",
        "\n",
        "**X-Axis**\n",
        "- Independent variable (i.e. decided upon by the experimenter)\n",
        "- Predictor (a variable that _predicts_ a specific resonse, i.e. y)"
      ]
    },
    {
      "cell_type": "markdown",
      "metadata": {
        "id": "gZgDZQnbL8y5"
      },
      "source": [
        "3. Convert `wt` column from pounds to kg (bouns points for adding it to the DataFrame)."
      ]
    },
    {
      "cell_type": "code",
      "execution_count": null,
      "metadata": {
        "id": "HnjWfwxdMAgB"
      },
      "outputs": [],
      "source": [
        "# Avoid making unnecessary new objects that are separate from your DataFrame\n",
        "#twocol = mtcars[['mpg','wt']]\n",
        "#twocol['kilo'] = y/2.2046\n",
        "#twocol"
      ]
    },
    {
      "cell_type": "code",
      "execution_count": null,
      "metadata": {
        "colab": {
          "base_uri": "https://localhost:8080/",
          "height": 611
        },
        "id": "2hsMXVz4boLs",
        "outputId": "11672dd1-50fa-42a4-b772-7748995e9cf9"
      },
      "outputs": [],
      "source": [
        "mtcars[\"wt\"]"
      ]
    },
    {
      "cell_type": "code",
      "execution_count": null,
      "metadata": {
        "colab": {
          "base_uri": "https://localhost:8080/",
          "height": 611
        },
        "id": "fi-BI1m_bb7h",
        "outputId": "f9b9b999-34bd-4c51-f4e3-5ae37c8f46df"
      },
      "outputs": [],
      "source": [
        "mtcars[\"wt\"].apply(lambda x: x/2.2046)"
      ]
    },
    {
      "cell_type": "code",
      "execution_count": null,
      "metadata": {
        "id": "1EZMrRJ4bx7T"
      },
      "outputs": [],
      "source": [
        "mtcars['wt_kg'] = mtcars['wt']/2.2046226218"
      ]
    },
    {
      "cell_type": "code",
      "execution_count": null,
      "metadata": {
        "id": "__QrmSRgckZs"
      },
      "outputs": [],
      "source": [
        "# Alternatvely:\n",
        "# mtcars['wt_kg_2'] = mtcars['wt']*0.453592"
      ]
    },
    {
      "cell_type": "markdown",
      "metadata": {
        "id": "9h0FwTnXcZzy"
      },
      "source": [
        "# Indexing\n"
      ]
    },
    {
      "cell_type": "code",
      "execution_count": null,
      "metadata": {
        "colab": {
          "base_uri": "https://localhost:8080/",
          "height": 233
        },
        "id": "h_Au8NxkdyjF",
        "outputId": "dd26de41-60e7-4e02-e1e8-8b0c75da4e77"
      },
      "outputs": [],
      "source": [
        "foo_df"
      ]
    },
    {
      "cell_type": "code",
      "execution_count": null,
      "metadata": {
        "colab": {
          "base_uri": "https://localhost:8080/",
          "height": 143
        },
        "id": "1I0KixJqd6v8",
        "outputId": "64e59922-a9d7-41b4-d058-89aa629687ab"
      },
      "outputs": [],
      "source": [
        "foo_df['tissue']"
      ]
    },
    {
      "cell_type": "code",
      "execution_count": null,
      "metadata": {
        "colab": {
          "base_uri": "https://localhost:8080/",
          "height": 233
        },
        "id": "FK86PJSud7ir",
        "outputId": "3f865bbc-42cb-40d7-a498-0d9c63d840da"
      },
      "outputs": [],
      "source": [
        "foo_df[['tissue']]"
      ]
    },
    {
      "cell_type": "code",
      "execution_count": null,
      "metadata": {
        "colab": {
          "base_uri": "https://localhost:8080/",
          "height": 143
        },
        "id": "mWsGqZkDeFex",
        "outputId": "1f08f1a4-4871-4b97-9b29-6bc2155aed72"
      },
      "outputs": [],
      "source": [
        "foo_df.tissue"
      ]
    },
    {
      "cell_type": "markdown",
      "metadata": {
        "id": "1rT0C68meMr8"
      },
      "source": [
        "index position as number with `.iloc[]`"
      ]
    },
    {
      "cell_type": "code",
      "execution_count": null,
      "metadata": {
        "colab": {
          "base_uri": "https://localhost:8080/",
          "height": 107
        },
        "id": "7QjivBo5eMEY",
        "outputId": "de288380-1818-4b0c-c1fa-2ff9738e4142"
      },
      "outputs": [],
      "source": [
        "# First row, as a Series\n",
        "foo_df.iloc[0] "
      ]
    },
    {
      "cell_type": "code",
      "execution_count": null,
      "metadata": {
        "colab": {
          "base_uri": "https://localhost:8080/",
          "height": 79
        },
        "id": "ZtKeZEMmeZWd",
        "outputId": "01d564ac-44ec-4db5-e733-c1155e283fc1"
      },
      "outputs": [],
      "source": [
        "# First row, as a DataFrame\n",
        "foo_df.iloc[[0]] "
      ]
    },
    {
      "cell_type": "code",
      "execution_count": null,
      "metadata": {
        "colab": {
          "base_uri": "https://localhost:8080/",
          "height": 110
        },
        "id": "dXcLRq9Kel2S",
        "outputId": "324b7d31-1e2e-4116-d206-73c3891e94a9"
      },
      "outputs": [],
      "source": [
        "foo_df.iloc[[0, 1]] "
      ]
    },
    {
      "cell_type": "markdown",
      "metadata": {
        "id": "faNv8oSDeyz8"
      },
      "source": [
        "Using two dimensions:"
      ]
    },
    {
      "cell_type": "code",
      "execution_count": null,
      "metadata": {
        "colab": {
          "base_uri": "https://localhost:8080/",
          "height": 107
        },
        "id": "CC4q4YLaex0Y",
        "outputId": "3915cef6-3a79-442d-e4cb-f426dea4729b"
      },
      "outputs": [],
      "source": [
        "# To get all columns, use : after the comma\n",
        "foo_df.iloc[0,:] # : == everything "
      ]
    },
    {
      "cell_type": "code",
      "execution_count": null,
      "metadata": {
        "id": "LK3wM-PlfM3g"
      },
      "outputs": [],
      "source": [
        "# Valid\n",
        "# foo_df.iloc[0,]"
      ]
    },
    {
      "cell_type": "markdown",
      "metadata": {
        "id": "tgCP9N-ofZgy"
      },
      "source": [
        "Indexing begins at 0 and is _exclusive_"
      ]
    },
    {
      "cell_type": "code",
      "execution_count": null,
      "metadata": {
        "colab": {
          "base_uri": "https://localhost:8080/",
          "height": 233
        },
        "id": "H9TViCT0fZ9v",
        "outputId": "225f848f-1309-4566-99b1-b719b125a779"
      },
      "outputs": [],
      "source": [
        "# The first two columns, all rows\n",
        "foo_df.iloc[:,:2] # 0, 1, and exclude 2"
      ]
    },
    {
      "cell_type": "code",
      "execution_count": null,
      "metadata": {
        "colab": {
          "base_uri": "https://localhost:8080/",
          "height": 143
        },
        "id": "L-Dehf4pgWIu",
        "outputId": "c35c5601-800d-49eb-9e1b-261b2758dc12"
      },
      "outputs": [],
      "source": [
        "# One column as a Series\n",
        "foo_df.iloc[:,1]"
      ]
    },
    {
      "cell_type": "code",
      "execution_count": null,
      "metadata": {
        "colab": {
          "base_uri": "https://localhost:8080/",
          "height": 233
        },
        "id": "Ox9LGhIegeV7",
        "outputId": "4b79924f-98ee-41cd-9a0e-b76e5e0a6b1e"
      },
      "outputs": [],
      "source": [
        "# The same, as a DataFrame\n",
        "foo_df.iloc[:,1:2]"
      ]
    },
    {
      "cell_type": "code",
      "execution_count": null,
      "metadata": {
        "colab": {
          "base_uri": "https://localhost:8080/",
          "height": 107
        },
        "id": "wL_i3XhAg-IM",
        "outputId": "0c567553-efc0-4408-a593-e662d6918282"
      },
      "outputs": [],
      "source": [
        "# counting from the opposite direction\n",
        "# -1 is the last row\n",
        "foo_df.iloc[-1,]\n",
        "# forward: 0  1  2  3  4  5\n",
        "# Reverse -6 -5 -4 -3 -2 -1"
      ]
    },
    {
      "cell_type": "code",
      "execution_count": null,
      "metadata": {
        "colab": {
          "base_uri": "https://localhost:8080/",
          "height": 233
        },
        "id": "KlrK6Ni2hEhK",
        "outputId": "275b4545-22c6-4754-939a-cda4a5796951"
      },
      "outputs": [],
      "source": [
        "foo_df"
      ]
    },
    {
      "cell_type": "code",
      "execution_count": null,
      "metadata": {
        "colab": {
          "base_uri": "https://localhost:8080/",
          "height": 297
        },
        "id": "4pURflAri_5-",
        "outputId": "b51a9839-d6a3-4478-ae56-15cd33492082"
      },
      "outputs": [],
      "source": [
        "foo_df.reverse()"
      ]
    },
    {
      "cell_type": "markdown",
      "metadata": {
        "id": "2aeeuzGKhtSM"
      },
      "source": [
        "**Exercise 5.1**\n",
        "\n",
        "Using foo_df, retreive:"
      ]
    },
    {
      "cell_type": "markdown",
      "metadata": {
        "id": "3gkgEit5hwxK"
      },
      "source": [
        "The 2nd to 3rd rows"
      ]
    },
    {
      "cell_type": "code",
      "execution_count": null,
      "metadata": {
        "id": "I2GC1DSZh5eN"
      },
      "outputs": [],
      "source": [
        "# foo_df.iloc[2:3, :] # only the 3rd row\n",
        "# foo_df.iloc[[2,3],:] # the 3rd & the 4th row using a list\n",
        "# foo_df.iloc[2:4] # the 3rd & the 4th row using : notation\n",
        "# foo_df.iloc[0:2,] # 1st & 2nd rows\n",
        "# foo_df[-1:2,:] # Computer says \"no\"\n",
        "# foo_df.iloc[3:,:] # 4th to the end \n",
        "\n",
        "# yes :)\n",
        "foo_df.iloc[[1, 2]] # 2nd & 3rd rows using a list\n",
        "# foo_df.iloc[1:3,:] # 2nd & 3rd rows using : notation\n"
      ]
    },
    {
      "cell_type": "markdown",
      "metadata": {
        "id": "jxYgpqoNh6N3"
      },
      "source": [
        "The last 2 rows"
      ]
    },
    {
      "cell_type": "code",
      "execution_count": null,
      "metadata": {
        "id": "cB4goDSyh77X"
      },
      "outputs": [],
      "source": [
        "foo_df[-2:]"
      ]
    },
    {
      "cell_type": "code",
      "execution_count": null,
      "metadata": {
        "id": "9M3rZijiuCrf"
      },
      "outputs": [],
      "source": [
        "# The last two no matter how long\n",
        "foo_df.iloc[-2:]\n",
        "# foo_df.iloc[[-1,-2],:] # specify the order with a list"
      ]
    },
    {
      "cell_type": "code",
      "execution_count": null,
      "metadata": {
        "id": "tEymDaMuuNHS"
      },
      "outputs": [],
      "source": [
        "# Hard coding positions\n",
        "# foo_df.iloc[ [4, 5],:]\n",
        "# foo_df.iloc[4:,:]"
      ]
    },
    {
      "cell_type": "markdown",
      "metadata": {
        "id": "khTgYvgIh8PH"
      },
      "source": [
        "A random row in foo_df"
      ]
    },
    {
      "cell_type": "code",
      "execution_count": null,
      "metadata": {
        "id": "ybcMSquchwE8"
      },
      "outputs": [],
      "source": [
        "# import random\n",
        "# foo_df.iloc[[random.randrange(0, len(foo_df))]]\n",
        "foo_df.sample()"
      ]
    },
    {
      "cell_type": "markdown",
      "metadata": {
        "id": "Ltv6VFJgh-Wl"
      },
      "source": [
        "From the 4th to the last row\n",
        "(But without hard-coding, i.e. regardless of how many rows my data frame contains)"
      ]
    },
    {
      "cell_type": "code",
      "execution_count": null,
      "metadata": {
        "id": "MLMO1tnEh-9Z"
      },
      "outputs": [],
      "source": [
        "# foo_df[3:]\n",
        "foo_df.iloc[3:,:]\n"
      ]
    },
    {
      "cell_type": "markdown",
      "metadata": {
        "id": "-f9j1cpjtcAx"
      },
      "source": [
        "** Exercise 5.2**\n",
        "\n",
        "Using `.iloc()` with:\n",
        "\n"
      ]
    },
    {
      "cell_type": "code",
      "execution_count": null,
      "metadata": {
        "id": "OOIlwxArtoBJ"
      },
      "outputs": [],
      "source": [
        "# Integers? yes :)\n",
        "foo_df.iloc[4,]\n"
      ]
    },
    {
      "cell_type": "code",
      "execution_count": null,
      "metadata": {
        "id": "pr4GRZZDtssU"
      },
      "outputs": [],
      "source": [
        "# Floats? Computer says no\n",
        "# foo_df[0.1:]"
      ]
    },
    {
      "cell_type": "code",
      "execution_count": null,
      "metadata": {
        "id": "dK5Tthd7tt9H"
      },
      "outputs": [],
      "source": [
        "# Strings (Characters)? Computer says \"no\"\n",
        "# foo_df.iloc[:,'tissue']\n",
        "# foo_df.iloc['Brain'] # need to look inside the tissue column\n",
        "# foo_df.iloc['A'] # No is no 'A' anyways\n",
        "# foo_df[heart:]   # No object defined "
      ]
    },
    {
      "cell_type": "code",
      "execution_count": null,
      "metadata": {
        "id": "KpLxJCpGtvT4"
      },
      "outputs": [],
      "source": [
        "# A heterogenous list? Computer says \"no\"\n",
        "# foo_df.iloc[:,[1, 'quantity']]\n",
        "\n"
      ]
    },
    {
      "cell_type": "code",
      "execution_count": null,
      "metadata": {
        "id": "u2C8n_t0twdu"
      },
      "outputs": [],
      "source": [
        "# A homogenous list?\n",
        "foo_df.iloc[[1,4,-1,-1,3,2,0]]\n"
      ]
    },
    {
      "cell_type": "markdown",
      "metadata": {
        "id": "1ULmqL8kwvKb"
      },
      "source": [
        "**Exercise 5.3**"
      ]
    },
    {
      "cell_type": "markdown",
      "metadata": {
        "id": "CpJp83Oxyh3C"
      },
      "source": [
        "Use indexing to obtain all the odd rows\n"
      ]
    },
    {
      "cell_type": "code",
      "execution_count": null,
      "metadata": {
        "id": "-2nfrIm6yspg"
      },
      "outputs": [],
      "source": [
        "foo_df.iloc[1::2] # 2nd, 4th, 6th"
      ]
    },
    {
      "cell_type": "code",
      "execution_count": null,
      "metadata": {
        "id": "K12HmWe20_AT"
      },
      "outputs": [],
      "source": [
        "foo_df.iloc[lambda x: x.index % 2 == 1]"
      ]
    },
    {
      "cell_type": "code",
      "execution_count": null,
      "metadata": {
        "id": "IFvBy59E1dyX"
      },
      "outputs": [],
      "source": [
        "foo_df[foo_df.index % 2 != 0]"
      ]
    },
    {
      "cell_type": "markdown",
      "metadata": {
        "id": "ZKy9mWyqyq-u"
      },
      "source": [
        "Use indexing to obtain all the even rows"
      ]
    },
    {
      "cell_type": "code",
      "execution_count": null,
      "metadata": {
        "id": "n4uRY4k5ytHu"
      },
      "outputs": [],
      "source": [
        "foo_df.iloc[::2] # 1st, 3rd, 5th"
      ]
    },
    {
      "cell_type": "code",
      "execution_count": null,
      "metadata": {
        "id": "2tIb9FYx1Oey"
      },
      "outputs": [],
      "source": [
        "foo_df.iloc[lambda x: x.index % 2 == 0]"
      ]
    },
    {
      "cell_type": "markdown",
      "metadata": {
        "id": "Bt8bQQ_S1zTW"
      },
      "source": [
        "# Logical Expressions\n",
        "\n",
        "Relational and logical operators"
      ]
    },
    {
      "cell_type": "code",
      "execution_count": null,
      "metadata": {
        "id": "EZreeLnZ2LOi"
      },
      "outputs": [],
      "source": [
        "foo_df[foo_df.quantity >= 233]"
      ]
    },
    {
      "cell_type": "code",
      "execution_count": null,
      "metadata": {
        "id": "OuSxIRRf2T_t"
      },
      "outputs": [],
      "source": [
        "foo_df[(foo_df.tissue == \"Heart\") | (foo_df.quantity >= 233)]"
      ]
    },
    {
      "cell_type": "markdown",
      "metadata": {
        "id": "ENRJOaEg22Rb"
      },
      "source": [
        "**Exercise 5.4**\n",
        "\n",
        "Only “healthy” samples.\n"
      ]
    },
    {
      "cell_type": "code",
      "execution_count": null,
      "metadata": {
        "id": "yleRlep63K7z"
      },
      "outputs": [],
      "source": [
        "foo_df[foo_df.healthy]\n"
      ]
    },
    {
      "cell_type": "markdown",
      "metadata": {
        "id": "WhVeoHQS26-n"
      },
      "source": [
        "Only “unhealthy” samples.\n"
      ]
    },
    {
      "cell_type": "code",
      "execution_count": null,
      "metadata": {
        "id": "IbQY6Ui43Len"
      },
      "outputs": [],
      "source": [
        "foo_df[-foo_df.healthy]\n"
      ]
    },
    {
      "cell_type": "code",
      "execution_count": null,
      "metadata": {
        "id": "_tEpQKJW4WBy"
      },
      "outputs": [],
      "source": [
        "foo_df[~foo_df.healthy]\n"
      ]
    },
    {
      "cell_type": "markdown",
      "metadata": {
        "id": "jdNQD1i_28HZ"
      },
      "source": [
        "**Exercise 5.5**\n",
        "\n",
        "\n",
        "Only low quantity samples, those below 100."
      ]
    },
    {
      "cell_type": "code",
      "execution_count": null,
      "metadata": {
        "id": "CAuRnYc_3hFl"
      },
      "outputs": [],
      "source": []
    },
    {
      "cell_type": "markdown",
      "metadata": {
        "id": "4XW2JDsQ3C92"
      },
      "source": [
        "Midrange: Quantity between 100 and 1000,\n"
      ]
    },
    {
      "cell_type": "code",
      "execution_count": null,
      "metadata": {
        "id": "WaEL26P13gru"
      },
      "outputs": [],
      "source": []
    },
    {
      "cell_type": "markdown",
      "metadata": {
        "id": "zyarLo_x3EFa"
      },
      "source": [
        "Tails of the distribution: Quantity below 100 and beyond 1000.\n"
      ]
    },
    {
      "cell_type": "code",
      "execution_count": null,
      "metadata": {
        "id": "wm0DxtDV3gSI"
      },
      "outputs": [],
      "source": []
    },
    {
      "cell_type": "markdown",
      "metadata": {
        "id": "sIRAl8653FIi"
      },
      "source": [
        "**Exercise 5.6**\n",
        "\n",
        "Only “Heart” samples."
      ]
    },
    {
      "cell_type": "code",
      "execution_count": null,
      "metadata": {
        "id": "VQk14r1T3fuy"
      },
      "outputs": [],
      "source": []
    },
    {
      "cell_type": "markdown",
      "metadata": {
        "id": "OUxjcaJH3IYh"
      },
      "source": [
        "“Heart” and “liver” samples\n"
      ]
    },
    {
      "cell_type": "code",
      "execution_count": null,
      "metadata": {
        "id": "FkSPZ0RM3MpK"
      },
      "outputs": [],
      "source": []
    },
    {
      "cell_type": "markdown",
      "metadata": {
        "id": "JcDYOhf13Jku"
      },
      "source": [
        "Everything except “intestines”\n"
      ]
    },
    {
      "cell_type": "code",
      "execution_count": null,
      "metadata": {
        "id": "6WnDvENh3MNG"
      },
      "outputs": [],
      "source": []
    }
  ],
  "metadata": {
    "colab": {
      "name": "3-Python Fundamentals from Colab.ipynb",
      "provenance": []
    },
    "kernelspec": {
      "display_name": "Python 3.9.7 ('base')",
      "language": "python",
      "name": "python3"
    },
    "language_info": {
      "codemirror_mode": {
        "name": "ipython",
        "version": 3
      },
      "file_extension": ".py",
      "mimetype": "text/x-python",
      "name": "python",
      "nbconvert_exporter": "python",
      "pygments_lexer": "ipython3",
      "version": "3.9.7"
    },
    "vscode": {
      "interpreter": {
        "hash": "d4d1e4263499bec80672ea0156c357c1ee493ec2b1c70f0acce89fc37c4a6abe"
      }
    }
  },
  "nbformat": 4,
  "nbformat_minor": 2
}
