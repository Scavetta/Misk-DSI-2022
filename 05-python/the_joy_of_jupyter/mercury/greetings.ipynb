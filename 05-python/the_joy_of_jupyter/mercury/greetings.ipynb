{
 "cells": [
  {
   "cell_type": "raw",
   "metadata": {},
   "source": [
    "---\n",
    "title: Hello 🌍🪐\n",
    "description: Hello app\n",
    "params:\n",
    "    planet:\n",
    "        input: select\n",
    "        label: Please select a planet\n",
    "        value: Earth\n",
    "        choices: [Mercury, Venus, Earth, Mars, Jupiter, Saturn, Uranus, Neptune]\n",
    "---"
   ]
  },
  {
   "cell_type": "markdown",
   "metadata": {},
   "source": [
    "# Example Mercury"
   ]
  },
  {
   "cell_type": "code",
   "execution_count": null,
   "metadata": {},
   "outputs": [],
   "source": [
    "planet = \"Earth\""
   ]
  },
  {
   "cell_type": "code",
   "execution_count": null,
   "metadata": {},
   "outputs": [],
   "source": [
    "print(f\"Hello, {planet}\")"
   ]
  }
 ],
 "metadata": {
  "language_info": {
   "name": "python"
  },
  "orig_nbformat": 4
 },
 "nbformat": 4,
 "nbformat_minor": 2
}
