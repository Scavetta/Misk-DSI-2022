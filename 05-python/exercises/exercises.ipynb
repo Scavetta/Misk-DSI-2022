{
 "cells": [
  {
   "cell_type": "markdown",
   "metadata": {},
   "source": [
    "# Base Python Exercises\n",
    "##### January 12th , group exercises"
   ]
  },
  {
   "cell_type": "markdown",
   "metadata": {},
   "source": [
    "#### I. Answer the following questions"
   ]
  },
  {
   "cell_type": "markdown",
   "metadata": {},
   "source": [
    "\n",
    "**1- Read an integer n. For all non-negative integers i < n, print the square of i.**"
   ]
  },
  {
   "cell_type": "code",
   "execution_count": null,
   "metadata": {},
   "outputs": [],
   "source": []
  },
  {
   "cell_type": "markdown",
   "metadata": {},
   "source": [
    "**2- Read an integer n. For all non-negative integers  i < n, if i is odd print cube of i, if i is even print square of i.**"
   ]
  },
  {
   "cell_type": "code",
   "execution_count": null,
   "metadata": {},
   "outputs": [],
   "source": []
  },
  {
   "cell_type": "markdown",
   "metadata": {},
   "source": [
    "**3- Do questions 1 and 2 again, this time return lists of numbers instead of printing.**"
   ]
  },
  {
   "cell_type": "code",
   "execution_count": null,
   "metadata": {},
   "outputs": [],
   "source": []
  },
  {
   "cell_type": "markdown",
   "metadata": {},
   "source": [
    "**4- Print the sum of the 5 lowest numbers from the list you created in c.**"
   ]
  },
  {
   "cell_type": "code",
   "execution_count": null,
   "metadata": {},
   "outputs": [],
   "source": []
  },
  {
   "cell_type": "markdown",
   "metadata": {},
   "source": [
    "**Can you think of another way to do questions a and b? A dif type of loop**"
   ]
  },
  {
   "cell_type": "code",
   "execution_count": null,
   "metadata": {},
   "outputs": [],
   "source": []
  },
  {
   "cell_type": "markdown",
   "metadata": {},
   "source": [
    "**5 - Iterate over the following sentence over and over again, counting the number of vowels in the sentence until you have counted 1 million vowels. Print out the number of iterations it took to reach one million.**"
   ]
  },
  {
   "cell_type": "code",
   "execution_count": null,
   "metadata": {},
   "outputs": [],
   "source": [
    "sentence = \"IF I PRACTICE A LOT I WILL SOON BECOME A VERY GOOD PYTHON PROGRAMMER\""
   ]
  },
  {
   "cell_type": "code",
   "execution_count": null,
   "metadata": {},
   "outputs": [],
   "source": []
  },
  {
   "cell_type": "markdown",
   "metadata": {},
   "source": [
    "**6. Write an if-else statement for multiple conditions:**\n",
    "\n",
    "Print out these recommendations based on the weather conditions:\n",
    "\n",
    "1. Temperature over 20 ˚C and rain: bring an umbrella.\n",
    "2. Temperature less than or equal to 20 ˚C and rain: bring and umbrella and a jacket.\n",
    "3. Temperature over 20 ˚C and sunshine: wear a t-shirt.\n",
    "4. Temperature less than or equal to 20 ˚C and sunshine: bring a jacket."
   ]
  },
  {
   "cell_type": "code",
   "execution_count": null,
   "metadata": {},
   "outputs": [],
   "source": []
  },
  {
   "cell_type": "markdown",
   "metadata": {},
   "source": [
    "**7- Turn your code above into a function forecast() that takes two arguments (from input) temperature and weather and return the recommendation.**"
   ]
  },
  {
   "cell_type": "code",
   "execution_count": null,
   "metadata": {},
   "outputs": [],
   "source": []
  },
  {
   "cell_type": "markdown",
   "metadata": {},
   "source": [
    "#### II. Create the following functions:"
   ]
  },
  {
   "cell_type": "markdown",
   "metadata": {},
   "source": [
    "#### 1- Sum of List\n",
    "- function name is `sum_of_list`\n",
    "- input arguments are:\n",
    "  - list of numbers : `nums`\n",
    "- return is:\n",
    "  - number: sum of all elements in `nums`"
   ]
  },
  {
   "cell_type": "code",
   "execution_count": null,
   "metadata": {},
   "outputs": [],
   "source": []
  },
  {
   "cell_type": "markdown",
   "metadata": {},
   "source": [
    "#### 2- Multiply Elements of List\n",
    "- function name is `multiply_list`\n",
    "- input arguments are:\n",
    "  - list of numbers : `nums`\n",
    "- return is:\n",
    "  - number: product of all elements in `nums`"
   ]
  },
  {
   "cell_type": "code",
   "execution_count": null,
   "metadata": {},
   "outputs": [],
   "source": []
  },
  {
   "cell_type": "markdown",
   "metadata": {},
   "source": [
    "#### 3- Reverse a String\n",
    "- function name is `reverse_string`\n",
    "- input arguments are:\n",
    "  - string : `string_to_reverse`\n",
    "- return is:\n",
    "  - string : `reversed_string`, the reversed result of input `string_to_reverse`\n",
    "  \n",
    "Note: Do not use `[::-1]` indexing to solve this problem, use loops."
   ]
  },
  {
   "cell_type": "code",
   "execution_count": null,
   "metadata": {},
   "outputs": [],
   "source": []
  },
  {
   "cell_type": "markdown",
   "metadata": {},
   "source": [
    "#### 4- Max of Three\n",
    "- function name is `max_of_three`\n",
    "- input arguments are:\n",
    "  - int : `x`\n",
    "  - int : `y`\n",
    "  - int : `z`\n",
    "- return is:\n",
    "  - int: max value of `x`, `y`, and `z`"
   ]
  },
  {
   "cell_type": "code",
   "execution_count": null,
   "metadata": {},
   "outputs": [],
   "source": []
  },
  {
   "cell_type": "markdown",
   "metadata": {},
   "source": [
    "#### 5- Unique Elements Only\n",
    "- function name is `make_unique`\n",
    "- input arguments are:\n",
    "  - list (mixed types)\n",
    "- return is:\n",
    "  - list (mixed types)\n",
    "  \n",
    "Note: Do not use `set` to solve this problem."
   ]
  },
  {
   "cell_type": "code",
   "execution_count": null,
   "metadata": {},
   "outputs": [],
   "source": []
  },
  {
   "cell_type": "markdown",
   "metadata": {},
   "source": [
    "#### 6- Is It a [Palindrome?](https://en.wikipedia.org/wiki/Palindrome)\n",
    "- function name is `is_word_palindrome`\n",
    "- input arguments are:\n",
    "  - string\n",
    "- return is:\n",
    "  - boolean (True if input string is Palindrome, else False)\n",
    "  \n",
    "Note: Do not use [::-1] indexing to solve this problem.\n",
    "Note 2: Whitespace should be considered as a character against which to evaluate symmetry."
   ]
  },
  {
   "cell_type": "code",
   "execution_count": null,
   "metadata": {},
   "outputs": [],
   "source": []
  },
  {
   "cell_type": "markdown",
   "metadata": {},
   "source": [
    "#### [optional] Unit Tests\n",
    "\n",
    "- unittest is the batteries-included test module in the Python standard library.\n",
    "\n",
    "- https://docs.python.org/3/library/unittest.html\n",
    "\n",
    "\n",
    "Run the cell below to determine if your functions were correctly written. \n",
    "\n",
    "You will see the following if all your functions were correctly written:\n",
    "```\n",
    "......\n",
    "Currently testing 'test_is_word_palindrome'...\n",
    "Currently testing 'test_make_unique'...\n",
    "Currently testing 'test_max_of_three'...\n",
    "Currently testing 'test_multiply_list'...\n",
    "Currently testing 'test_reverse_string'...\n",
    "Currently testing 'test_sum_of_list'...\n",
    "\n",
    "----------------------------------------------------------------------\n",
    "Ran 6 tests in 0.008s\n",
    "\n",
    "OK\n",
    "```\n",
    "\n",
    "\n",
    "If you have an error in your function, you will see an output similar to the following:\n",
    "```\n",
    "..F...\n",
    "Currently testing 'test_is_word_palindrome'...\n",
    "Currently testing 'test_make_unique'...\n",
    "Currently testing 'test_max_of_three'...\n",
    "Currently testing 'test_multiply_list'...\n",
    "Currently testing 'test_reverse_string'...\n",
    "Currently testing 'test_sum_of_list'...\n",
    "\n",
    "======================================================================\n",
    "FAIL: test_max_of_three (__main__.TestAllFunctions)\n",
    "----------------------------------------------------------------------\n",
    "Traceback (most recent call last):\n",
    "  File \"<ipython-input-10-e39454a386b1>\", line 17, in test_max_of_three\n",
    "    self.assertEqual(max_of_three(3, 6, -5), 6)\n",
    "AssertionError: -5 != 6\n",
    "\n",
    "----------------------------------------------------------------------\n",
    "Ran 6 tests in 0.021s\n",
    "\n",
    "FAILED (failures=1)\n",
    "```\n",
    "\n",
    "The error we've encountered in the above output occurred at test 3 of 6 (note how the `F` occurrs at the 3rd dot of 6 dots along the top of the output). Our function `test_max_of_three` returned a value of `-5` but the test we used expected a value of `6`. We will need to revisit our function `test_max_of_three` to ensure it returns a value of `6` when passed values of `3`, `6`, and `-5`."
   ]
  },
  {
   "cell_type": "code",
   "execution_count": null,
   "metadata": {},
   "outputs": [],
   "source": [
    "import unittest"
   ]
  },
  {
   "cell_type": "code",
   "execution_count": null,
   "metadata": {},
   "outputs": [],
   "source": [
    "class TestAllFunctions(unittest.TestCase):\n",
    "    \n",
    "    def setUp(self):\n",
    "        print(\"Currently testing \\'{0}\\'...\".format(self._testMethodName))\n",
    "        \n",
    "    def test_sum_of_list(self):\n",
    "        self.assertEqual(sum_of_list((8, 2, 3, 0, 7)), 20)\n",
    "        self.assertEqual(sum_of_list([-8, 2, 3, 0, 7]), 4)\n",
    "        \n",
    "    def test_multiply_list(self):\n",
    "        self.assertEqual(multiply_list([2, 2, 4]), 16)\n",
    "        \n",
    "    def test_reverse_string(self):\n",
    "        self.assertEqual(reverse_string('greg'), 'gerg')\n",
    "        \n",
    "    def test_max_of_three(self):\n",
    "        self.assertEqual(max_of_three(3, 6, -5), 6)\n",
    "        self.assertEqual(max_of_three(5, 5, -5), 5)\n",
    "    \n",
    "    def test_make_unique(self):\n",
    "        # note that set is used here for order invariance of the list\n",
    "        self.assertEqual(set(make_unique([1,1,1,'greg',2,2,3,3,3,3,'greg'])), set([1,2,3,'greg']))\n",
    "    \n",
    "    def test_is_word_palindrome(self):\n",
    "        self.assertFalse(is_word_palindrome('greg'))\n",
    "        self.assertTrue(is_word_palindrome('gohangasalamiimalasagnahog'))\n",
    "\n",
    "unittest.main(argv=['first-arg-is-ignored'], exit=False);"
   ]
  },
  {
   "cell_type": "markdown",
   "metadata": {},
   "source": [
    "Some additional reading regarding unit tests: \n",
    "\n",
    "https://realpython.com/python-testing/\n",
    "\n",
    "https://medium.com/@mashood.snhu/a-quick-start-guide-to-python-unittest-part-1-9653683637ca"
   ]
  }
 ],
 "metadata": {
  "language_info": {
   "name": "python"
  },
  "orig_nbformat": 4
 },
 "nbformat": 4,
 "nbformat_minor": 2
}
