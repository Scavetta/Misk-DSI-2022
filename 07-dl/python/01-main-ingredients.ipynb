{
 "cells": [
  {
   "cell_type": "markdown",
   "id": "4adcc3b7-b375-4a0b-9988-e92f95b3fdcc",
   "metadata": {},
   "source": [
    "# Main Ingredients\n",
    "\n",
    "Now that you have learned many of the fundamental procedures executed in deep learning models, the notebooks that follow will provide various examples using the Python API. These notebooks are designed to closely mirror the complementary R notebooks."
   ]
  },
  {
   "cell_type": "code",
   "execution_count": null,
   "id": "37dba5d4-81fe-4fbe-95c2-b358dd3b44a6",
   "metadata": {},
   "outputs": [],
   "source": [
    "# utility packages\n",
    "import random\n",
    "import matplotlib.pyplot as plt\n",
    "import numpy as np\n",
    "import pandas as pd\n"
   ]
  },
  {
   "cell_type": "code",
   "execution_count": null,
   "id": "1daba6c0",
   "metadata": {},
   "outputs": [],
   "source": [
    "\n",
    "# modeling packages\n",
    "from sklearn.linear_model import LinearRegression\n",
    "from sklearn.metrics import mean_squared_error\n",
    "from sklearn.datasets import make_blobs\n",
    "from tensorflow.keras.models import Sequential\n",
    "from tensorflow.keras.layers import Dense\n",
    "from tensorflow.keras.optimizers import SGD\n",
    "from tensorflow.keras import utils"
   ]
  },
  {
   "cell_type": "markdown",
   "id": "d2e2a605-3c86-4ced-bc45-6432c24a4898",
   "metadata": {},
   "source": [
    "## Simple Linear Regression"
   ]
  },
  {
   "cell_type": "code",
   "execution_count": null,
   "id": "9b0d088c-d870-448d-8a9a-5a19365e3158",
   "metadata": {},
   "outputs": [],
   "source": [
    "n = 1000   # n observations\n",
    "b = 30     # intercept\n",
    "a = 5      # slope"
   ]
  },
  {
   "cell_type": "code",
   "execution_count": null,
   "id": "a9bbecf5-5691-46e7-9a1a-08e1df884629",
   "metadata": {},
   "outputs": [],
   "source": [
    "random.seed(123)\n",
    "X = [random.uniform(-1, 1) for ob in range(n)]\n",
    "y = [b + a*ob + random.uniform(-1, 1) for ob in X]\n",
    "\n",
    "df = pd.DataFrame({'X': X, 'y': y})\n",
    "df.head()"
   ]
  },
  {
   "cell_type": "code",
   "execution_count": null,
   "id": "22b3319c-ec17-4918-9030-e128582d8bc0",
   "metadata": {},
   "outputs": [],
   "source": [
    "df.plot.scatter(x='X', y='y', s=1.5)"
   ]
  },
  {
   "cell_type": "code",
   "execution_count": null,
   "id": "36839032-b41d-47c6-8604-a49a097cc9b1",
   "metadata": {
    "tags": []
   },
   "outputs": [],
   "source": [
    "X = df[['X']]\n",
    "y = df['y']\n",
    "\n",
    "reg = LinearRegression().fit(X, y)\n",
    "\n",
    "print(f'''\n",
    "estimated intercept = {reg.coef_}\n",
    "estimated slope = {reg.intercept_}\n",
    "loss score = {mean_squared_error(y, reg.predict(X))}\n",
    "''')"
   ]
  },
  {
   "cell_type": "markdown",
   "id": "32f2c976-7dc2-484d-82c6-a99c04476ce0",
   "metadata": {
    "tags": []
   },
   "source": [
    "## Simple regression with a perceptron"
   ]
  },
  {
   "cell_type": "code",
   "execution_count": null,
   "id": "0cec706c-6add-457f-ac42-f1ae78b46d75",
   "metadata": {},
   "outputs": [],
   "source": [
    "# define the keras model\n",
    "model = Sequential()\n",
    "model.add(Dense(units=1, input_dim=1))"
   ]
  },
  {
   "cell_type": "code",
   "execution_count": null,
   "id": "7139d477-584a-4bc6-b793-dd2a24b2a594",
   "metadata": {},
   "outputs": [],
   "source": [
    "# compile the keras model\n",
    "model.compile(loss='mse', optimizer='sgd')"
   ]
  },
  {
   "cell_type": "code",
   "execution_count": null,
   "id": "eb53bfe2-dad7-432c-91f7-be5c5afe3e41",
   "metadata": {},
   "outputs": [],
   "source": [
    "# Fit the model\n",
    "model.fit(X, y, batch_size=32, epochs=15)"
   ]
  },
  {
   "cell_type": "code",
   "execution_count": null,
   "id": "27970ea3-677b-4c02-80b2-5b5e8f2ae5b0",
   "metadata": {},
   "outputs": [],
   "source": [
    "model.get_weights()"
   ]
  },
  {
   "cell_type": "markdown",
   "id": "eb3ee15e-2662-4894-bd31-96cc1252b6de",
   "metadata": {},
   "source": [
    "## Binary Classification"
   ]
  },
  {
   "cell_type": "code",
   "execution_count": null,
   "id": "2cdd2013-40ea-4e44-b94f-d48376092f54",
   "metadata": {},
   "outputs": [],
   "source": [
    "X, y = make_blobs(n_samples=1000, centers=2, n_features=1)"
   ]
  },
  {
   "cell_type": "code",
   "execution_count": null,
   "id": "2f907f72-0da2-4d93-8556-8ad7c254ccd5",
   "metadata": {},
   "outputs": [],
   "source": [
    "pd.DataFrame({'X': np.squeeze(X), 'y': y}).head()"
   ]
  },
  {
   "cell_type": "code",
   "execution_count": null,
   "id": "8c3c40fa-072f-4d38-b7d9-4f032a65eb9d",
   "metadata": {},
   "outputs": [],
   "source": [
    "# define the keras model\n",
    "model = Sequential()\n",
    "model.add(Dense(units=1, input_dim=1, activation = \"sigmoid\"))\n",
    "\n",
    "# compile the keras model\n",
    "model.compile(loss='binary_crossentropy', optimizer='sgd')\n",
    "\n",
    "# fit the model\n",
    "history = model.fit(X, y, epochs=50, verbose=False)"
   ]
  },
  {
   "cell_type": "code",
   "execution_count": null,
   "id": "578591e6-9aa6-453c-b92a-36d3567415b4",
   "metadata": {},
   "outputs": [],
   "source": [
    "model.evaluate(X, y)"
   ]
  },
  {
   "cell_type": "code",
   "execution_count": null,
   "id": "5352cec3-6e7f-406c-91bc-39b6fb6ef8f4",
   "metadata": {},
   "outputs": [],
   "source": [
    "pd.DataFrame({\n",
    "    'epoch': history.epoch,\n",
    "    'loss': history.history['loss']\n",
    "}).plot.scatter(x='epoch', y='loss')"
   ]
  },
  {
   "cell_type": "markdown",
   "id": "a5c98c30-5b1a-4afa-8827-5e464dcc3201",
   "metadata": {},
   "source": [
    "## Learning rate and momentum"
   ]
  },
  {
   "cell_type": "code",
   "execution_count": null,
   "id": "7efeaa7e-a70d-427f-8922-7c4cbee2b87c",
   "metadata": {},
   "outputs": [],
   "source": [
    "# define the keras model\n",
    "model = Sequential()\n",
    "model.add(Dense(units=1, input_dim=1, activation = \"sigmoid\"))\n",
    "\n",
    "# compile the keras model\n",
    "model.compile(loss='binary_crossentropy', optimizer=SGD(learning_rate=0.2))\n",
    "\n",
    "# fit the model\n",
    "model.fit(X, y, epochs=10)"
   ]
  },
  {
   "cell_type": "code",
   "execution_count": null,
   "id": "16c9fd1f-adb4-4186-b355-e332ecaf7a4f",
   "metadata": {},
   "outputs": [],
   "source": [
    "# define the keras model\n",
    "model = Sequential()\n",
    "model.add(Dense(units=1, input_dim=1, activation = \"sigmoid\"))\n",
    "\n",
    "# compile the keras model\n",
    "model.compile(loss='binary_crossentropy', optimizer=SGD(learning_rate=0.01, momentum=0.5))\n",
    "\n",
    "# fit the model\n",
    "model.fit(X, y, epochs=10)"
   ]
  },
  {
   "cell_type": "markdown",
   "id": "a7bb4415-033d-4c0b-8098-6c4bdcd7652e",
   "metadata": {},
   "source": [
    "## Non-linear Patterns"
   ]
  },
  {
   "cell_type": "code",
   "execution_count": null,
   "id": "11b7b382-366e-45e0-a8a7-4fab26669def",
   "metadata": {},
   "outputs": [],
   "source": [
    "df = pd.DataFrame({\n",
    "    'X': np.arange(0, 6, 0.01),\n",
    "    'y': np.sin(np.arange(0, 6, 0.01))\n",
    "})\n",
    "\n",
    "# add random noise to response variable\n",
    "e = np.random.uniform(-0.2, 0.2, (df.shape[0], 1))\n",
    "df[['y']] = df[['y']] + e\n",
    "\n",
    "# plot\n",
    "df.plot.scatter(x='X', y='y', s=1.5)"
   ]
  },
  {
   "cell_type": "code",
   "execution_count": null,
   "id": "cf565119-f0bf-4f2f-a6d4-6e06d6247b0e",
   "metadata": {},
   "outputs": [],
   "source": [
    "X = df[['X']]\n",
    "y = df['y']"
   ]
  },
  {
   "cell_type": "code",
   "execution_count": null,
   "id": "7e245628-8d66-4b46-b1bd-dcf8ff260dc9",
   "metadata": {},
   "outputs": [],
   "source": [
    "# define the keras model\n",
    "model = Sequential()\n",
    "model.add(Dense(units=16, input_dim=1, activation = \"relu\"))\n",
    "model.add(Dense(units=1))\n",
    "\n",
    "# compile the keras model\n",
    "model.compile(loss='mse', optimizer=SGD(learning_rate=0.01, momentum=0.9))\n",
    "\n",
    "# fit the model\n",
    "model.fit(X, y, batch_size=32, epochs=50, verbose=False)"
   ]
  },
  {
   "cell_type": "code",
   "execution_count": null,
   "id": "9dcd8a16-76c5-47c2-ad79-e4978523373e",
   "metadata": {},
   "outputs": [],
   "source": [
    "df[['pred']] = model.predict(X)\n",
    "# plot\n",
    "df.plot.scatter(x='X', y='y', s=1.5)\n",
    "plt.plot(df[['X']], df[['pred']], c='red')"
   ]
  },
  {
   "cell_type": "code",
   "execution_count": null,
   "id": "8f9d9716-4d91-4f79-b23d-932c8f5b2359",
   "metadata": {},
   "outputs": [],
   "source": [
    "# define the keras model\n",
    "model = Sequential()\n",
    "model.add(Dense(units=16, input_dim=1, activation=\"relu\"))\n",
    "model.add(Dense(units=16, activation=\"relu\"))\n",
    "model.add(Dense(units=1))\n",
    "\n",
    "# compile the keras model\n",
    "model.compile(loss='mse', optimizer=SGD(learning_rate=0.01, momentum=0.9))\n",
    "\n",
    "# fit the model\n",
    "model.fit(X, y, batch_size=16, epochs=50, verbose=False)\n",
    "          \n",
    "# plot results\n",
    "df[['pred']] = model.predict(X)\n",
    "# plot\n",
    "df.plot.scatter(x='X', y='y', s=1.5)\n",
    "plt.plot(df[['X']], df[['pred']], c='red')"
   ]
  },
  {
   "cell_type": "markdown",
   "id": "6914b2c5-5769-43e9-94e0-957c17f882e2",
   "metadata": {},
   "source": [
    "## Multi-predictor Multi-class Classification"
   ]
  },
  {
   "cell_type": "code",
   "execution_count": null,
   "id": "005f6892-d7ca-4056-afae-48921d10b412",
   "metadata": {},
   "outputs": [],
   "source": [
    "X, y = make_blobs(n_samples=2000, centers=4, n_features=3)"
   ]
  },
  {
   "cell_type": "code",
   "execution_count": null,
   "id": "3e43c7e1-e1f1-4757-9788-ce8a86af382a",
   "metadata": {},
   "outputs": [],
   "source": [
    "# categorical encoding of y array\n",
    "y = utils.to_categorical(y)\n",
    "y"
   ]
  },
  {
   "cell_type": "code",
   "execution_count": null,
   "id": "c779ba6b-d0f4-4e93-81ef-3fb8878c144f",
   "metadata": {},
   "outputs": [],
   "source": [
    "X.shape[1]"
   ]
  },
  {
   "cell_type": "code",
   "execution_count": null,
   "id": "20f2491b-a8a9-48bd-a56f-f18f706532a8",
   "metadata": {},
   "outputs": [],
   "source": [
    "y.shape"
   ]
  },
  {
   "cell_type": "markdown",
   "id": "3ae3dcc4-0421-4e5c-b7a3-8a290cdc82c9",
   "metadata": {},
   "source": [
    "### Fit model using validation"
   ]
  },
  {
   "cell_type": "code",
   "execution_count": null,
   "id": "502573fa-15e1-43d8-a88b-af96085756c9",
   "metadata": {},
   "outputs": [],
   "source": [
    "# define the keras model\n",
    "model = Sequential()\n",
    "model.add(Dense(units=16, input_dim=X.shape[1], activation=\"relu\"))\n",
    "model.add(Dense(units=y.shape[1], activation='softmax'))\n",
    "\n",
    "# compile the keras model\n",
    "model.compile(\n",
    "    loss='categorical_crossentropy', \n",
    "    optimizer=SGD(learning_rate=0.01, momentum=0.9),\n",
    "    metrics='accuracy'\n",
    ")\n",
    "\n",
    "# fit the model\n",
    "history = model.fit(X, y, batch_size=32, epochs=20, validation_split=0.2, verbose=False)"
   ]
  },
  {
   "cell_type": "code",
   "execution_count": null,
   "id": "3b61d724-bea9-45a2-801a-7f5c0bec4187",
   "metadata": {},
   "outputs": [],
   "source": [
    "pd.DataFrame(history.history).plot(figsize=(10,6))\n",
    "plt.show()"
   ]
  },
  {
   "cell_type": "code",
   "execution_count": null,
   "id": "fb85369b-d227-466e-b7b6-fedd0fdcb332",
   "metadata": {},
   "outputs": [],
   "source": []
  }
 ],
 "metadata": {
  "kernelspec": {
   "display_name": "Python 3.9.13",
   "language": "python",
   "name": "python3"
  },
  "language_info": {
   "codemirror_mode": {
    "name": "ipython",
    "version": 3
   },
   "file_extension": ".py",
   "mimetype": "text/x-python",
   "name": "python",
   "nbconvert_exporter": "python",
   "pygments_lexer": "ipython3",
   "version": "3.9.13"
  },
  "vscode": {
   "interpreter": {
    "hash": "f9aa506fc972c52ea29cb4ed343f4388ea2df439506f10adebec88d88b2b22e8"
   }
  }
 },
 "nbformat": 4,
 "nbformat_minor": 5
}
