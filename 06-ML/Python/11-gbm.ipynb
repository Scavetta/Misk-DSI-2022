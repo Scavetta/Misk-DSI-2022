{
 "cells": [
  {
   "cell_type": "markdown",
   "id": "655e9de1-233b-4651-90d6-a1f3423694e3",
   "metadata": {},
   "source": [
    "# Module 11: Gradient Boosting\n",
    "\n",
    "## Prerequisites"
   ]
  },
  {
   "cell_type": "code",
   "execution_count": 1,
   "id": "178680ef-6ad8-456c-bc5e-4b0304928720",
   "metadata": {},
   "outputs": [],
   "source": [
    "# Helper packages\n",
    "import numpy as np\n",
    "import pandas as pd\n",
    "from plotnine import *\n",
    "\n",
    "# Modeling packages\n",
    "import xgboost as xgb\n",
    "from sklearn.model_selection import train_test_split\n",
    "from category_encoders.ordinal import OrdinalEncoder\n",
    "from sklearn.preprocessing import OneHotEncoder\n",
    "from sklearn.compose import ColumnTransformer\n",
    "from sklearn.compose import make_column_selector as selector\n",
    "from sklearn.compose import ColumnTransformer\n",
    "from sklearn.compose import make_column_selector as selector\n",
    "from sklearn.model_selection import KFold\n",
    "from sklearn.model_selection import cross_val_score\n",
    "from sklearn.model_selection import GridSearchCV\n",
    "from sklearn.model_selection import RandomizedSearchCV\n",
    "from sklearn.inspection import partial_dependence\n",
    "from sklearn.pipeline import Pipeline"
   ]
  },
  {
   "cell_type": "code",
   "execution_count": 4,
   "id": "1be8d80c-6ab4-44a0-9a0c-38f2c8edecef",
   "metadata": {},
   "outputs": [],
   "source": [
    "# Ames housing data\n",
    "ames = pd.read_csv(\"../../00-data/ML/ames.csv\")\n",
    "\n",
    "# create train/test split\n",
    "train, test = train_test_split(ames, train_size=0.7, random_state=123)\n",
    "\n",
    "# separate features from labels and only use numeric features\n",
    "X_train = train.drop(\"Sale_Price\", axis=1)\n",
    "y_train = train[[\"Sale_Price\"]]"
   ]
  },
  {
   "cell_type": "markdown",
   "id": "4fb0f315-453f-4814-b01b-fb61e23dfcaa",
   "metadata": {},
   "source": [
    "## Basic GBM"
   ]
  },
  {
   "cell_type": "code",
   "execution_count": 5,
   "id": "23addbd4-079a-4793-b6df-a5d395afbd15",
   "metadata": {},
   "outputs": [],
   "source": [
    "# Ordinal encode our quality-based features \n",
    "ord_cols = list(X_train.filter(regex=(\"Qual$|QC$|Cond$\")).columns)\n",
    "lvs = [\"Very_Poor\", \"Poor\", \"Fair\", \"Below_Average\", \"Average\", \"Typical\", \n",
    "       \"Above_Average\", \"Good\", \"Very_Good\", \"Excellent\", \"Very_Excellent\"]\n",
    "val = range(0, len(lvs))\n",
    "lvl_map = dict(zip(lvs, val))\n",
    "category_mapping = [{'col': col, 'mapping': lvl_map} for col in ord_cols]\n",
    "ord_encoder = OrdinalEncoder(cols=ord_cols, mapping=category_mapping)\n",
    "\n",
    "# one hot encode remaining nominal features\n",
    "encoder = OneHotEncoder(handle_unknown=\"ignore\", sparse=False)\n",
    "\n",
    "# combine into a pre-processing pipeline\n",
    "preprocessor = ColumnTransformer(\n",
    "  remainder=\"passthrough\",\n",
    "  transformers=[\n",
    "   (\"ord_encode\", ord_encoder, ord_cols),\n",
    "   (\"one-hot\", encoder, selector(dtype_include=\"object\")),\n",
    "   ]\n",
    "  )"
   ]
  },
  {
   "cell_type": "code",
   "execution_count": 8,
   "id": "a57ca876-c284-4276-98cc-9d9b930c0da2",
   "metadata": {},
   "outputs": [],
   "source": [
    "# create random forest estimator\n",
    "xgb_mod = xgb.XGBRegressor()\n",
    "\n",
    "# create modeling pipeline \n",
    "model_pipeline = Pipeline(steps=[\n",
    "  (\"preprocessor\", preprocessor),\n",
    "  (\"xgb_mod\", xgb_mod),\n",
    "])\n",
    "\n",
    "# define loss function\n",
    "loss = 'neg_root_mean_squared_error'\n",
    "\n",
    "# create 5 fold CV object\n",
    "kfold = KFold(n_splits=5, random_state=123, shuffle=True)\n",
    "\n",
    "# fit model with 5-fold CV\n",
    "results = cross_val_score(model_pipeline, X_train, y_train, cv=kfold, scoring=loss)\n"
   ]
  },
  {
   "cell_type": "code",
   "execution_count": 9,
   "id": "8599efb6",
   "metadata": {},
   "outputs": [
    {
     "data": {
      "text/plain": [
       "25670.99931790421"
      ]
     },
     "execution_count": 9,
     "metadata": {},
     "output_type": "execute_result"
    }
   ],
   "source": [
    "\n",
    "np.abs(np.mean(results))"
   ]
  },
  {
   "cell_type": "markdown",
   "id": "d9c33149-0428-4c42-8112-88931c0eb5b6",
   "metadata": {},
   "source": [
    "## Basic GBM grid search"
   ]
  },
  {
   "cell_type": "code",
   "execution_count": 10,
   "id": "d7663a45-70a4-441f-835d-f0f2026d96f4",
   "metadata": {},
   "outputs": [],
   "source": [
    "# define hyperparameters\n",
    "hyper_grid = {\n",
    "  'xgb_mod__n_estimators': [1000, 2500, 5000],\n",
    "  'xgb_mod__learning_rate': [0.001, 0.01, 0.1],\n",
    "  'xgb_mod__max_depth': [3, 5, 7, 9],\n",
    "  'xgb_mod__min_child_weight': [1, 5, 15] \n",
    "}"
   ]
  },
  {
   "cell_type": "code",
   "execution_count": 31,
   "id": "3b419c33-8350-4751-bab4-332053d16d71",
   "metadata": {
    "tags": []
   },
   "outputs": [],
   "source": [
    "random_search = RandomizedSearchCV(\n",
    "    model_pipeline, \n",
    "    param_distributions=hyper_grid, \n",
    "    n_iter=20, \n",
    "    cv=kfold, \n",
    "    scoring=loss, \n",
    "    n_jobs=-1, \n",
    "    random_state=13\n",
    ")"
   ]
  },
  {
   "cell_type": "code",
   "execution_count": 32,
   "id": "35b0f118-093f-478d-8d4d-9fb870633ee5",
   "metadata": {
    "collapsed": true,
    "jupyter": {
     "outputs_hidden": true
    },
    "tags": []
   },
   "outputs": [
    {
     "name": "stdout",
     "output_type": "stream",
     "text": [
      "CPU times: user 35.6 s, sys: 14 s, total: 49.6 s\n",
      "Wall time: 2min 3s\n"
     ]
    }
   ],
   "source": [
    "%%time\n",
    "%%capture\n",
    "random_search_results = random_search.fit(X_train, y_train)"
   ]
  },
  {
   "cell_type": "code",
   "execution_count": 13,
   "id": "56beec75-0ad7-4fb7-a094-c61bf76760d7",
   "metadata": {},
   "outputs": [
    {
     "data": {
      "text/plain": [
       "23718.487184689955"
      ]
     },
     "execution_count": 13,
     "metadata": {},
     "output_type": "execute_result"
    }
   ],
   "source": [
    "# best model score\n",
    "np.abs(random_search_results.best_score_)"
   ]
  },
  {
   "cell_type": "code",
   "execution_count": 15,
   "id": "cc7fc265-50e1-449d-8868-97e98d234bf6",
   "metadata": {},
   "outputs": [
    {
     "data": {
      "text/plain": [
       "{'xgb_mod__n_estimators': 5000,\n",
       " 'xgb_mod__min_child_weight': 15,\n",
       " 'xgb_mod__max_depth': 3,\n",
       " 'xgb_mod__learning_rate': 0.01}"
      ]
     },
     "execution_count": 15,
     "metadata": {},
     "output_type": "execute_result"
    }
   ],
   "source": [
    "random_search_results.best_params_"
   ]
  },
  {
   "cell_type": "markdown",
   "id": "80f63ed5-5152-4654-a564-b1125357d7d4",
   "metadata": {},
   "source": [
    "## Stochastic GBMs"
   ]
  },
  {
   "cell_type": "code",
   "execution_count": 16,
   "id": "1ede5f19-a259-407a-b9cf-dbc1b40918a8",
   "metadata": {},
   "outputs": [],
   "source": [
    "# create stochastic GBM estimator\n",
    "xgb_mod = xgb.XGBRegressor(\n",
    "    n_estimators=5000,\n",
    "    learning_rate=0.1,\n",
    "    max_depth=3,\n",
    "    min_child_weight=1\n",
    ")\n",
    "\n",
    "# create modeling pipeline\n",
    "model_pipeline = Pipeline(steps=[\n",
    "  (\"preprocessor\", preprocessor),\n",
    "  (\"xgb_mod\", xgb_mod),\n",
    "])"
   ]
  },
  {
   "cell_type": "code",
   "execution_count": 17,
   "id": "b26b10d7-5073-48b6-9f67-172707e8e677",
   "metadata": {},
   "outputs": [],
   "source": [
    "# define stochastic hyperparameters\n",
    "stochastic_hyper_grid = {\n",
    "  'xgb_mod__subsample': [0.5, 0.75, 1],\n",
    "  'xgb_mod__colsample_bytree': [0.5, 0.75, 1],\n",
    "  'xgb_mod__colsample_bylevel': [0.5, 0.75, 1],\n",
    "  'xgb_mod__colsample_bynode': [0.5, 0.75, 1]\n",
    "}\n",
    "\n",
    "stochastic_random_search = RandomizedSearchCV(\n",
    "    model_pipeline, \n",
    "    param_distributions=stochastic_hyper_grid, \n",
    "    n_iter=20, \n",
    "    cv=kfold, \n",
    "    scoring=loss, \n",
    "    n_jobs=-1, \n",
    "    random_state=13\n",
    ")"
   ]
  },
  {
   "cell_type": "code",
   "execution_count": 18,
   "id": "328b4940-4796-4e46-bf5b-d0e0501c7465",
   "metadata": {
    "collapsed": true,
    "jupyter": {
     "outputs_hidden": true
    },
    "tags": []
   },
   "outputs": [
    {
     "name": "stdout",
     "output_type": "stream",
     "text": [
      "CPU times: user 1min 28s, sys: 38 s, total: 2min 6s\n",
      "Wall time: 4min 56s\n"
     ]
    }
   ],
   "source": [
    "%%time\n",
    "stochastic_random_search_results = stochastic_random_search.fit(X_train, y_train)"
   ]
  },
  {
   "cell_type": "code",
   "execution_count": 19,
   "id": "aaa74807-ffcb-4599-877a-e4769c04d9f3",
   "metadata": {},
   "outputs": [
    {
     "data": {
      "text/plain": [
       "21990.50340555188"
      ]
     },
     "execution_count": 19,
     "metadata": {},
     "output_type": "execute_result"
    }
   ],
   "source": [
    "# best model score\n",
    "np.abs(stochastic_random_search_results.best_score_)"
   ]
  },
  {
   "cell_type": "code",
   "execution_count": 20,
   "id": "7b425c60-dbe0-435e-99ab-59a0584b0ef8",
   "metadata": {},
   "outputs": [
    {
     "data": {
      "text/plain": [
       "{'xgb_mod__subsample': 1,\n",
       " 'xgb_mod__colsample_bytree': 0.75,\n",
       " 'xgb_mod__colsample_bynode': 0.75,\n",
       " 'xgb_mod__colsample_bylevel': 0.75}"
      ]
     },
     "execution_count": 20,
     "metadata": {},
     "output_type": "execute_result"
    }
   ],
   "source": [
    "stochastic_random_search_results.best_params_"
   ]
  },
  {
   "cell_type": "markdown",
   "id": "72b71446-2d79-4409-91ec-2eca3a03fe6e",
   "metadata": {},
   "source": [
    "## Regularized GBMs"
   ]
  },
  {
   "cell_type": "code",
   "execution_count": 21,
   "id": "3f493cf2-8a59-4045-8793-7ad3c66df120",
   "metadata": {},
   "outputs": [],
   "source": [
    "# create stochastic GBM estimator\n",
    "xgb_mod = xgb.XGBRegressor(\n",
    "    n_estimators=5000,\n",
    "    learning_rate=0.1,\n",
    "    max_depth=3,\n",
    "    min_child_weight=1,\n",
    "    subsample=1,\n",
    "    colsample_bytree=0.75,\n",
    "    colsample_bylevel=0.75,\n",
    "    colsample_bynode=0.75\n",
    ")\n",
    "\n",
    "# create modeling pipeline\n",
    "model_pipeline = Pipeline(steps=[\n",
    "  (\"preprocessor\", preprocessor),\n",
    "  (\"xgb_mod\", xgb_mod),\n",
    "])"
   ]
  },
  {
   "cell_type": "code",
   "execution_count": 22,
   "id": "a77ab713-84d6-4632-8b7b-5cb189e80870",
   "metadata": {},
   "outputs": [],
   "source": [
    "# define regularization hyperparameters\n",
    "regularization_hyper_grid = {\n",
    "  'xgb_mod__gamma': [0, 0.1, 10, 1000],\n",
    "  'xgb_mod__alpha': [0, 0.1, 10, 1000],\n",
    "  'xgb_mod__lambda': [0, 0.1, 10, 1000]\n",
    "}\n",
    "\n",
    "regularization_random_search = RandomizedSearchCV(\n",
    "    model_pipeline, \n",
    "    param_distributions=regularization_hyper_grid, \n",
    "    n_iter=20, \n",
    "    cv=kfold, \n",
    "    scoring=loss, \n",
    "    n_jobs=-1, \n",
    "    random_state=13\n",
    ")"
   ]
  },
  {
   "cell_type": "code",
   "execution_count": 23,
   "id": "b98e70ce-cb0d-43d3-88fa-e5b974271432",
   "metadata": {
    "collapsed": true,
    "jupyter": {
     "outputs_hidden": true
    },
    "tags": []
   },
   "outputs": [
    {
     "name": "stdout",
     "output_type": "stream",
     "text": [
      "CPU times: user 1min 44s, sys: 33.2 s, total: 2min 17s\n",
      "Wall time: 6min 19s\n"
     ]
    }
   ],
   "source": [
    "%%time\n",
    "regularization_random_search_results = regularization_random_search.fit(X_train, y_train)"
   ]
  },
  {
   "cell_type": "code",
   "execution_count": 24,
   "id": "65f12279-2c82-4f74-ac03-b978d6fe17d9",
   "metadata": {},
   "outputs": [
    {
     "data": {
      "text/plain": [
       "22488.72653394142"
      ]
     },
     "execution_count": 24,
     "metadata": {},
     "output_type": "execute_result"
    }
   ],
   "source": [
    "np.abs(regularization_random_search_results.best_score_)"
   ]
  },
  {
   "cell_type": "markdown",
   "id": "b764584a-886b-48fb-b7c3-99f7297cb6a0",
   "metadata": {},
   "source": [
    "## Tuning strategy"
   ]
  },
  {
   "cell_type": "code",
   "execution_count": 25,
   "id": "6eaaa05e-058d-47c0-bbdf-74050a0d2132",
   "metadata": {},
   "outputs": [],
   "source": [
    "# create final GBM estimator\n",
    "xgb_mod = xgb.XGBRegressor(\n",
    "    learning_rate=0.1,\n",
    "    max_depth=3,\n",
    "    min_child_weight=1,\n",
    "    subsample=1,\n",
    "    colsample_bytree=0.75,\n",
    "    colsample_bylevel=0.75,\n",
    "    colsample_bynode=0.75\n",
    ")\n",
    "\n",
    "# create modeling pipeline\n",
    "model_pipeline = Pipeline(steps=[\n",
    "  (\"preprocessor\", preprocessor),\n",
    "  (\"xgb_mod\", xgb_mod),\n",
    "])"
   ]
  },
  {
   "cell_type": "code",
   "execution_count": 26,
   "id": "75900c16-9c44-4c62-af38-8eeacc61ba59",
   "metadata": {},
   "outputs": [],
   "source": [
    "# define hyperparameters\n",
    "hyper_grid = {'xgb_mod__n_estimators': [2000, 3000, 4000, 5000, 6000, 7000, 8000]}\n",
    "\n",
    "final_search = GridSearchCV(\n",
    "    model_pipeline, \n",
    "    hyper_grid, \n",
    "    cv=kfold, \n",
    "    scoring=loss #, \n",
    "    # n_jobs=-1\n",
    ")"
   ]
  },
  {
   "cell_type": "code",
   "execution_count": 27,
   "id": "6d981859-90b3-46c1-84b0-a69baa481cfd",
   "metadata": {},
   "outputs": [
    {
     "name": "stdout",
     "output_type": "stream",
     "text": [
      "CPU times: user 48min 14s, sys: 20min 15s, total: 1h 8min 29s\n",
      "Wall time: 17min 20s\n"
     ]
    }
   ],
   "source": [
    "%%time\n",
    "final_search_results = final_search.fit(X_train, y_train)"
   ]
  },
  {
   "cell_type": "code",
   "execution_count": 28,
   "id": "b29db1c0-46d9-4eb2-a746-2f160e92b9c4",
   "metadata": {},
   "outputs": [
    {
     "data": {
      "text/plain": [
       "21948.509842280964"
      ]
     },
     "execution_count": 28,
     "metadata": {},
     "output_type": "execute_result"
    }
   ],
   "source": [
    "np.abs(final_search_results.best_score_)"
   ]
  },
  {
   "cell_type": "code",
   "execution_count": 29,
   "id": "0c9e6783-ea30-4aa4-ac78-a6d40665eb6a",
   "metadata": {
    "collapsed": true,
    "jupyter": {
     "outputs_hidden": true
    },
    "tags": []
   },
   "outputs": [
    {
     "data": {
      "text/plain": [
       "{'xgb_mod__n_estimators': 2000}"
      ]
     },
     "execution_count": 29,
     "metadata": {},
     "output_type": "execute_result"
    }
   ],
   "source": [
    "final_search_results.best_params_"
   ]
  },
  {
   "cell_type": "markdown",
   "id": "f1d96c06-4a07-4069-9873-4509e87d48f1",
   "metadata": {},
   "source": [
    "## Feature importance"
   ]
  },
  {
   "cell_type": "code",
   "execution_count": 30,
   "id": "689d4c92-bc23-4f64-a83c-228f3911d961",
   "metadata": {},
   "outputs": [
    {
     "name": "stderr",
     "output_type": "stream",
     "text": [
      "/opt/anaconda3/lib/python3.9/site-packages/sklearn/utils/deprecation.py:87: FutureWarning: Function get_feature_names is deprecated; get_feature_names is deprecated in 1.0 and will be removed in 1.2. Please use get_feature_names_out instead.\n"
     ]
    },
    {
     "data": {
      "image/png": "[encoded data removed]",
      "text/plain": [
       "<Figure size 640x480 with 1 Axes>"
      ]
     },
     "metadata": {},
     "output_type": "display_data"
    },
    {
     "data": {
      "text/plain": [
       "<ggplot: (380656023)>"
      ]
     },
     "execution_count": 30,
     "metadata": {},
     "output_type": "execute_result"
    }
   ],
   "source": [
    "# preprocess training data\n",
    "X_encoded = preprocessor.fit_transform(X_train)\n",
    "\n",
    "# create final model object\n",
    "final_model = xgb.XGBRegressor(\n",
    "    n_estimators=5000,\n",
    "    learning_rate=0.1,\n",
    "    max_depth=3,\n",
    "    min_child_weight=1,\n",
    "    subsample=1,\n",
    "    colsample_bytree=0.75,\n",
    "    colsample_bylevel=0.75,\n",
    "    colsample_bynode=0.75\n",
    ")\n",
    "\n",
    "final_model_fit = final_model.fit(X_encoded, y_train)\n",
    "\n",
    "# extract feature importances\n",
    "vi = pd.DataFrame({'feature': preprocessor.get_feature_names(),\n",
    "                   'importance': final_model_fit.feature_importances_})\n",
    "\n",
    "# get top 20 influential features\n",
    "top_20_features = vi.nlargest(20, 'importance')\n",
    "\n",
    "# plot feature importance\n",
    "(ggplot(top_20_features, aes(x='importance', y='reorder(feature, importance)'))\n",
    " + geom_point()\n",
    " + labs(y=None))"
   ]
  },
  {
   "cell_type": "markdown",
   "id": "603eec0a-bd02-413e-ae42-9333b23284b9",
   "metadata": {},
   "source": [
    "## Exercises\n",
    "\n",
    "Using the Boston housing data set, where the response feature is the median value of homes within a census tract (`cmedv`):\n",
    "\n",
    "1. Apply a basic GBM model with the same features you used in the random forest module. \n",
    "   - Apply the default hyperparameter settings with a learning rate set to 0.10. How does model performance compare to the random forest module?\n",
    "   - How many trees were applied? Was this enough to stabilize the loss function or do you need to add more?\n",
    "   - Tune the tree-based hyperparameters described for basic GBMs. Did your model performance improve?\n",
    "2. Apply a stochastic GBM model. Tune the hyperparameters using the suggested tuning strategy for stochastic GBMs. Did your model performance improve?\n",
    "3. Apply regularization to your XGBoost model. Did regularization improve performance?\n",
    "4. Pick your best GBM model. Which 10 features are considered most influential? Are these the same features that have been influential in previous models?\n",
    "5. Create partial dependence plots for the top two most influential features. Explain the relationship between the feature and the predicted values.\n",
    "6. Now perform 1-5 to the Attrition dataset, which is classification model rather than a regression model."
   ]
  },
  {
   "cell_type": "code",
   "execution_count": null,
   "id": "00148496-4c34-4ef2-8836-5b4379eefb44",
   "metadata": {},
   "outputs": [],
   "source": []
  }
 ],
 "metadata": {
  "kernelspec": {
   "display_name": "Python 3.9.12 ('base')",
   "language": "python",
   "name": "python3"
  },
  "language_info": {
   "codemirror_mode": {
    "name": "ipython",
    "version": 3
   },
   "file_extension": ".py",
   "mimetype": "text/x-python",
   "name": "python",
   "nbconvert_exporter": "python",
   "pygments_lexer": "ipython3",
   "version": "3.9.12"
  },
  "vscode": {
   "interpreter": {
    "hash": "40d3a090f54c6569ab1632332b64b2c03c39dcf918b08424e98f38b5ae0af88f"
   }
  }
 },
 "nbformat": 4,
 "nbformat_minor": 5
}
