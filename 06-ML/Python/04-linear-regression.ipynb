{
 "cells": [
  {
   "cell_type": "markdown",
   "id": "e4a3c2f0-dbaf-464a-8f5e-789d97cda1c2",
   "metadata": {},
   "source": [
    "# Module 04: Linear Regression "
   ]
  },
  {
   "cell_type": "markdown",
   "id": "a0401737-c1ca-467c-9d4e-bc5212f74c49",
   "metadata": {},
   "source": [
    "## Prerequisites"
   ]
  },
  {
   "cell_type": "code",
   "execution_count": 20,
   "id": "b51ab569-59e7-4502-b391-725733732726",
   "metadata": {},
   "outputs": [],
   "source": [
    "# Helper packages\n",
    "import pandas as pd\n",
    "import numpy as np\n",
    "\n",
    "# Modeling packages\n",
    "from sklearn.model_selection import train_test_split\n",
    "from sklearn import preprocessing\n",
    "from sklearn import compose\n",
    "from sklearn import cross_decomposition\n",
    "from sklearn import decomposition\n",
    "from sklearn import model_selection\n",
    "from sklearn import linear_model\n",
    "from sklearn import pipeline"
   ]
  },
  {
   "cell_type": "code",
   "execution_count": 21,
   "id": "88249883-1a12-48ef-ba03-75d52ed4fcff",
   "metadata": {},
   "outputs": [],
   "source": [
    "# Ames housing data\n",
    "ames = pd.read_csv(\"../../00-data/ML/ames.csv\")\n",
    "\n",
    "# create train/test split\n",
    "train, test = train_test_split(ames, train_size=0.7, random_state=123)\n",
    "\n",
    "# separate features from labels and only use numeric features\n",
    "X_train = train.drop(\"Sale_Price\", axis=1)\n",
    "y_train = train[[\"Sale_Price\"]]"
   ]
  },
  {
   "cell_type": "markdown",
   "id": "01286cb0-3ccd-4ae1-bf29-53c28001e432",
   "metadata": {},
   "source": [
    "## Simple linear regression"
   ]
  },
  {
   "cell_type": "markdown",
   "id": "b9b1f522-69a5-455f-bfb3-d35dd97eea9a",
   "metadata": {},
   "source": [
    "### Best fit line"
   ]
  },
  {
   "cell_type": "code",
   "execution_count": 22,
   "id": "11c8833a-d101-451f-b34e-69c0dc467768",
   "metadata": {},
   "outputs": [],
   "source": [
    "# create linear regression model object\n",
    "lm_mod = linear_model.LinearRegression()\n",
    "\n",
    "# fit linear model with only Gr_Liv_Area feature\n",
    "lm_fit = lm_mod.fit(X_train[[\"Gr_Liv_Area\"]], y_train)"
   ]
  },
  {
   "cell_type": "markdown",
   "id": "52a4afde-a360-410e-9b03-b6a05a21725a",
   "metadata": {},
   "source": [
    "### Coefficients"
   ]
  },
  {
   "cell_type": "code",
   "execution_count": 23,
   "id": "43d09fe7-a3f5-4ab1-92e4-32b2f2c456a9",
   "metadata": {},
   "outputs": [
    {
     "data": {
      "text/plain": [
       "array([15770.15274496])"
      ]
     },
     "execution_count": 23,
     "metadata": {},
     "output_type": "execute_result"
    }
   ],
   "source": [
    "# intercept\n",
    "lm_fit.intercept_"
   ]
  },
  {
   "cell_type": "code",
   "execution_count": 24,
   "id": "2a2eca20-f34c-423a-8663-4ba9ba71d7e2",
   "metadata": {},
   "outputs": [
    {
     "data": {
      "text/plain": [
       "array([[110.54517166]])"
      ]
     },
     "execution_count": 24,
     "metadata": {},
     "output_type": "execute_result"
    }
   ],
   "source": [
    "# coefficient for Gr_Liv_Area\n",
    "lm_fit.coef_"
   ]
  },
  {
   "cell_type": "markdown",
   "id": "bdec6b34-41f3-4aaa-8d25-8a0d71d536ca",
   "metadata": {},
   "source": [
    "## Multiple linear regression"
   ]
  },
  {
   "cell_type": "code",
   "execution_count": 25,
   "id": "6090c1c8-0184-4e58-9a34-f0dadf78457f",
   "metadata": {},
   "outputs": [],
   "source": [
    "# create linear regression model object\n",
    "lm_mod = linear_model.LinearRegression()\n",
    "\n",
    "# fit linear model with only Gr_Liv_Area and Year_Built feature\n",
    "lm_fit = lm_mod.fit(X_train[[\"Gr_Liv_Area\", \"Year_Built\"]], y_train)"
   ]
  },
  {
   "cell_type": "markdown",
   "id": "f286646a-fc79-4d4c-8184-75c84430ace4",
   "metadata": {},
   "source": [
    "### Coefficients"
   ]
  },
  {
   "cell_type": "code",
   "execution_count": 26,
   "id": "dfe4e629-4087-483c-9bb6-8943af69d85c",
   "metadata": {},
   "outputs": [
    {
     "data": {
      "text/plain": [
       "array([-2127545.21682598])"
      ]
     },
     "execution_count": 26,
     "metadata": {},
     "output_type": "execute_result"
    }
   ],
   "source": [
    "# intercept\n",
    "lm_fit.intercept_"
   ]
  },
  {
   "cell_type": "code",
   "execution_count": 27,
   "id": "54e4e996-3983-4269-91cb-953c3ddc1b87",
   "metadata": {},
   "outputs": [
    {
     "data": {
      "text/plain": [
       "array([[  94.82771439, 1099.10620648]])"
      ]
     },
     "execution_count": 27,
     "metadata": {},
     "output_type": "execute_result"
    }
   ],
   "source": [
    "# coefficients for Gr_Liv_Area and Year_Built\n",
    "lm_fit.coef_"
   ]
  },
  {
   "cell_type": "markdown",
   "id": "b1fc7cf6-c55e-43a4-8c77-9d7339faeeae",
   "metadata": {},
   "source": [
    "### Interactions"
   ]
  },
  {
   "cell_type": "code",
   "execution_count": 28,
   "id": "d44d2f44-4857-4aca-8176-f40b27000711",
   "metadata": {},
   "outputs": [],
   "source": [
    "# create linear regression model object\n",
    "lm_mod = linear_model.LinearRegression()\n",
    "\n",
    "# use PolynomialFeatures to create main Gr_Liv_Area and Year_Built effects and\n",
    "# also an interaction effect between Gr_Liv_Area & Year_Built\n",
    "effects = preprocessing.PolynomialFeatures(\n",
    "  interaction_only=True,\n",
    "  include_bias=False\n",
    "  )\n",
    "features = effects.fit_transform(X_train[[\"Gr_Liv_Area\", \"Year_Built\"]])\n",
    "\n",
    "# fit linear model with only Gr_Liv_Area and Year_Built feature and\n",
    "# also include an interaction effect (Gr_Liv_Area:Year_Built)\n",
    "lm_fit = lm_mod.fit(features, y_train)"
   ]
  },
  {
   "cell_type": "code",
   "execution_count": 29,
   "id": "589e071e-507c-494e-b68a-2ab2843be4e7",
   "metadata": {},
   "outputs": [
    {
     "data": {
      "text/plain": [
       "array([[-6.62106855e+02,  4.90386820e+02,  3.84056493e-01]])"
      ]
     },
     "execution_count": 29,
     "metadata": {},
     "output_type": "execute_result"
    }
   ],
   "source": [
    "# coefficients for Gr_Liv_Area, Year_Built effects and the interaction \n",
    "# effect between Gr_Liv_Area & Year_Built\n",
    "lm_fit.coef_"
   ]
  },
  {
   "cell_type": "markdown",
   "id": "0b830957-7130-4203-9598-36f529f6237f",
   "metadata": {},
   "source": [
    "### Many features"
   ]
  },
  {
   "cell_type": "code",
   "execution_count": 30,
   "id": "fcecf00a-9a45-45c4-a936-5928db2dcd52",
   "metadata": {},
   "outputs": [],
   "source": [
    "# create new feature set with categorical features dummy encoded\n",
    "encoder = preprocessing.OneHotEncoder(drop='first')\n",
    "cat_feat_only = compose.make_column_selector(dtype_include=\"object\")\n",
    "preprocessor = compose.ColumnTransformer(\n",
    "  remainder=\"passthrough\",\n",
    "  transformers=[(\"one-hot\", encoder, cat_feat_only)]\n",
    "  )\n",
    "X_train_encoded = preprocessor.fit_transform(X_train)\n",
    "\n",
    "# MLR model with new dummy encoded feature set\n",
    "lm_mod = linear_model.LinearRegression()\n",
    "lm_fit = lm_mod.fit(X_train_encoded, y_train)"
   ]
  },
  {
   "cell_type": "code",
   "execution_count": 31,
   "id": "d5d4048e-da5f-41a4-b772-2bdd347bb91e",
   "metadata": {},
   "outputs": [
    {
     "data": {
      "text/plain": [
       "array([  6916.78584629,   2479.30422373, -12417.78047706,  14002.25524953,\n",
       "        16540.4309626 ,  19940.43517711,  -6655.64145886,  -4857.84346031,\n",
       "        -5358.67224573,  -1201.17472585])"
      ]
     },
     "execution_count": 31,
     "metadata": {},
     "output_type": "execute_result"
    }
   ],
   "source": [
    "# first 10 coefficients\n",
    "lm_fit.coef_[0, 0:10]"
   ]
  },
  {
   "cell_type": "markdown",
   "id": "d43d153e-62d3-48d9-8d2b-f1cbb9cee83a",
   "metadata": {},
   "source": [
    "## Assessing model accuracy"
   ]
  },
  {
   "cell_type": "code",
   "execution_count": 32,
   "id": "bdc8e76e-30d1-4b31-a3de-e79b09e2a5c5",
   "metadata": {},
   "outputs": [],
   "source": [
    "# feature sets to compare across\n",
    "feature_set1 = X_train[[\"Gr_Liv_Area\"]]\n",
    "feature_set2 = X_train[[\"Gr_Liv_Area\", \"Year_Built\"]]\n",
    "feature_set3 = X_train_encoded\n",
    "feature_sets = {'lm1': feature_set1, 'lm2': feature_set2, 'lm3': feature_set3}\n",
    "\n",
    "# define loss function\n",
    "loss = 'neg_root_mean_squared_error'\n",
    "\n",
    "# create 10 fold CV object\n",
    "kfold = model_selection.KFold(n_splits=10, random_state=8451, shuffle=True)\n",
    "\n",
    "# object to store CV RMSE results\n",
    "results = {}\n",
    "\n",
    "for name, feat in feature_sets.items():\n",
    "  # create LM model object\n",
    "  lm_mod = linear_model.LinearRegression()\n",
    "\n",
    "  # execute and score the cross validation procedure\n",
    "  cv_results = model_selection.cross_val_score(\n",
    "    estimator=lm_mod, \n",
    "    X=feat, \n",
    "    y=y_train, \n",
    "    cv=kfold, \n",
    "    scoring=loss\n",
    "    )\n",
    "  results[name] = np.absolute(cv_results.mean())"
   ]
  },
  {
   "cell_type": "code",
   "execution_count": 33,
   "id": "55fdef44-9a28-41fd-a8cd-3e9ad2204d58",
   "metadata": {},
   "outputs": [
    {
     "data": {
      "text/plain": [
       "{'lm1': 58191.00896279409,\n",
       " 'lm2': 48202.332097374696,\n",
       " 'lm3': 34585.102640984886}"
      ]
     },
     "execution_count": 33,
     "metadata": {},
     "output_type": "execute_result"
    }
   ],
   "source": [
    "results"
   ]
  },
  {
   "cell_type": "markdown",
   "id": "faca9bc7-dfd2-42a3-b633-231a265464ea",
   "metadata": {},
   "source": [
    "## Principal component regression"
   ]
  },
  {
   "cell_type": "code",
   "execution_count": 34,
   "id": "f03bfecd-3612-49cc-8054-8f166ebf2570",
   "metadata": {},
   "outputs": [
    {
     "data": {
      "text/plain": [
       "34240.32920593013"
      ]
     },
     "execution_count": 34,
     "metadata": {},
     "output_type": "execute_result"
    }
   ],
   "source": [
    "# create linear model object\n",
    "lm_mod = linear_model.LinearRegression()\n",
    "\n",
    "# create k-fold cross validation object\n",
    "kfold = model_selection.KFold(n_splits=5, random_state=8451, shuffle=True)\n",
    "\n",
    "# define loss function\n",
    "loss = 'neg_root_mean_squared_error'\n",
    "\n",
    "# create our preprocessing steps which includes performing PCA \n",
    "# with 10 components\n",
    "scaler = preprocessing.StandardScaler()\n",
    "pca = decomposition.PCA(n_components=10)\n",
    "encoder = preprocessing.OneHotEncoder(handle_unknown=\"ignore\")\n",
    "num_feat_only = compose.make_column_selector(dtype_include=\"number\")\n",
    "cat_feat_only = compose.make_column_selector(dtype_include=\"object\")\n",
    "\n",
    "# combine all steps into a pre-processing pipeline\n",
    "preprocessor = compose.ColumnTransformer(\n",
    "  remainder=\"passthrough\",\n",
    "  transformers=[\n",
    "  (\"std_encode\", scaler, num_feat_only),\n",
    "  (\"pca_encode\", pca, num_feat_only),\n",
    "  (\"one-hot\", encoder, cat_feat_only),\n",
    "  ])\n",
    "\n",
    "# create a pipeline object that combines model with recipe\n",
    "model_pipeline = pipeline.Pipeline(steps=[\n",
    "  (\"preprocessor\", preprocessor),\n",
    "  (\"lm\", lm_mod),\n",
    "])\n",
    "\n",
    "# train and fit our model\n",
    "cv_results = model_selection.cross_val_score(\n",
    "  estimator=model_pipeline, \n",
    "  X=X_train, \n",
    "  y=y_train, \n",
    "  cv=kfold, \n",
    "  scoring=loss\n",
    "  )\n",
    "\n",
    "# get results\n",
    "np.absolute(cv_results.mean())"
   ]
  },
  {
   "cell_type": "markdown",
   "id": "790e0ad3-9878-46f7-83b0-2fbc7270bd71",
   "metadata": {},
   "source": [
    "### Tuning"
   ]
  },
  {
   "cell_type": "code",
   "execution_count": 35,
   "id": "ce4f69d3-65f4-462c-b6f1-a155e666e87f",
   "metadata": {},
   "outputs": [],
   "source": [
    "# create k-fold cross validation object\n",
    "kfold = model_selection.KFold(n_splits=5, random_state=8451, shuffle=True)\n",
    "\n",
    "# define loss function\n",
    "loss = 'neg_root_mean_squared_error'\n",
    "\n",
    "# create our preprocessing steps\n",
    "scaler = preprocessing.StandardScaler()\n",
    "encoder = preprocessing.OneHotEncoder(handle_unknown=\"ignore\")\n",
    "num_feat_only = compose.make_column_selector(dtype_include=\"number\")\n",
    "cat_feat_only = compose.make_column_selector(dtype_include=\"object\")\n",
    "\n",
    "# create object to save results\n",
    "results = {}\n",
    "\n",
    "# iterate over over 2, 4, 6, ..., 26 components and train model\n",
    "for n_comp in range(2, 28, 2):\n",
    "  # create PCA object with n components\n",
    "  pca = decomposition.PCA(n_components=n_comp)\n",
    "  \n",
    "# combine all steps into a pre-processing pipeline\n",
    "  preprocessor = compose.ColumnTransformer(\n",
    "    remainder=\"passthrough\",\n",
    "    transformers=[\n",
    "    (\"std_encode\", scaler, num_feat_only),\n",
    "    (\"pca_encode\", pca, num_feat_only),\n",
    "    (\"one-hot\", encoder, cat_feat_only),\n",
    "    ])\n",
    "\n",
    "  # create linear model object\n",
    "  lm_mod = linear_model.LinearRegression()\n",
    "\n",
    "  # create a pipeline object that combines model with recipe\n",
    "  model_pipeline = pipeline.Pipeline(steps=[\n",
    "    (\"preprocessor\", preprocessor),\n",
    "    (\"lm\", lm_mod),\n",
    "  ])\n",
    "\n",
    "  # train and fit our model\n",
    "  cv_results = model_selection.cross_val_score(\n",
    "    estimator=model_pipeline, \n",
    "    X=X_train, \n",
    "    y=y_train, \n",
    "    cv=kfold, \n",
    "    scoring=loss\n",
    "    )\n",
    "\n",
    "  # get results\n",
    "  results[n_comp] = np.absolute(cv_results.mean())"
   ]
  },
  {
   "cell_type": "code",
   "execution_count": 36,
   "id": "0de8edef-7c75-4e92-82cb-1f2404ff9386",
   "metadata": {},
   "outputs": [
    {
     "data": {
      "text/html": [
       "<div>\n",
       "<style scoped>\n",
       "    .dataframe tbody tr th:only-of-type {\n",
       "        vertical-align: middle;\n",
       "    }\n",
       "\n",
       "    .dataframe tbody tr th {\n",
       "        vertical-align: top;\n",
       "    }\n",
       "\n",
       "    .dataframe thead th {\n",
       "        text-align: right;\n",
       "    }\n",
       "</style>\n",
       "<table border=\"1\" class=\"dataframe\">\n",
       "  <thead>\n",
       "    <tr style=\"text-align: right;\">\n",
       "      <th></th>\n",
       "      <th>n_components</th>\n",
       "      <th>RMSE</th>\n",
       "    </tr>\n",
       "  </thead>\n",
       "  <tbody>\n",
       "    <tr>\n",
       "      <th>0</th>\n",
       "      <td>2</td>\n",
       "      <td>35615.069307</td>\n",
       "    </tr>\n",
       "    <tr>\n",
       "      <th>1</th>\n",
       "      <td>4</td>\n",
       "      <td>34680.852289</td>\n",
       "    </tr>\n",
       "    <tr>\n",
       "      <th>2</th>\n",
       "      <td>6</td>\n",
       "      <td>34286.038419</td>\n",
       "    </tr>\n",
       "    <tr>\n",
       "      <th>3</th>\n",
       "      <td>8</td>\n",
       "      <td>34403.641118</td>\n",
       "    </tr>\n",
       "    <tr>\n",
       "      <th>4</th>\n",
       "      <td>10</td>\n",
       "      <td>34249.517052</td>\n",
       "    </tr>\n",
       "    <tr>\n",
       "      <th>5</th>\n",
       "      <td>12</td>\n",
       "      <td>34124.535235</td>\n",
       "    </tr>\n",
       "    <tr>\n",
       "      <th>6</th>\n",
       "      <td>14</td>\n",
       "      <td>34117.588820</td>\n",
       "    </tr>\n",
       "    <tr>\n",
       "      <th>7</th>\n",
       "      <td>16</td>\n",
       "      <td>33973.949462</td>\n",
       "    </tr>\n",
       "    <tr>\n",
       "      <th>8</th>\n",
       "      <td>18</td>\n",
       "      <td>33785.814554</td>\n",
       "    </tr>\n",
       "    <tr>\n",
       "      <th>9</th>\n",
       "      <td>20</td>\n",
       "      <td>33415.438436</td>\n",
       "    </tr>\n",
       "    <tr>\n",
       "      <th>10</th>\n",
       "      <td>22</td>\n",
       "      <td>33276.234458</td>\n",
       "    </tr>\n",
       "    <tr>\n",
       "      <th>11</th>\n",
       "      <td>24</td>\n",
       "      <td>33333.654819</td>\n",
       "    </tr>\n",
       "    <tr>\n",
       "      <th>12</th>\n",
       "      <td>26</td>\n",
       "      <td>33280.961361</td>\n",
       "    </tr>\n",
       "  </tbody>\n",
       "</table>\n",
       "</div>"
      ],
      "text/plain": [
       "    n_components          RMSE\n",
       "0              2  35615.069307\n",
       "1              4  34680.852289\n",
       "2              6  34286.038419\n",
       "3              8  34403.641118\n",
       "4             10  34249.517052\n",
       "5             12  34124.535235\n",
       "6             14  34117.588820\n",
       "7             16  33973.949462\n",
       "8             18  33785.814554\n",
       "9             20  33415.438436\n",
       "10            22  33276.234458\n",
       "11            24  33333.654819\n",
       "12            26  33280.961361"
      ]
     },
     "execution_count": 36,
     "metadata": {},
     "output_type": "execute_result"
    }
   ],
   "source": [
    "pd.DataFrame.from_dict(\n",
    "  results,\n",
    "  orient='index',\n",
    "  columns=['RMSE']\n",
    "  ).rename_axis('n_components').reset_index()"
   ]
  },
  {
   "cell_type": "markdown",
   "id": "3a871a94-f26f-43e5-9034-7e067567955b",
   "metadata": {},
   "source": [
    "## Partial least squares"
   ]
  },
  {
   "cell_type": "code",
   "execution_count": 37,
   "id": "05ebd5db-6427-4f2f-a5ae-47c5fcd102ac",
   "metadata": {},
   "outputs": [
    {
     "data": {
      "text/plain": [
       "30834.84469515183"
      ]
     },
     "execution_count": 37,
     "metadata": {},
     "output_type": "execute_result"
    }
   ],
   "source": [
    "# create linear model object\n",
    "pls_mod = cross_decomposition.PLSRegression()\n",
    "\n",
    "# create k-fold cross validation object\n",
    "kfold = model_selection.KFold(n_splits=5, random_state=8451, shuffle=True)\n",
    "\n",
    "# define loss function\n",
    "loss = 'neg_root_mean_squared_error'\n",
    "\n",
    "# create our preprocessing steps to normalize and one-hot encode\n",
    "scaler = preprocessing.StandardScaler()\n",
    "encoder = preprocessing.OneHotEncoder(handle_unknown=\"ignore\", sparse=False)\n",
    "num_feat_only = compose.make_column_selector(dtype_include=\"number\")\n",
    "cat_feat_only = compose.make_column_selector(dtype_include=\"object\")\n",
    "\n",
    "# combine all steps into a pre-processing pipeline\n",
    "preprocessor = compose.ColumnTransformer(\n",
    "  remainder=\"passthrough\",\n",
    "  transformers=[\n",
    "    (\"std_encode\", scaler, num_feat_only),\n",
    "    (\"one-hot\", encoder, cat_feat_only),\n",
    "  ])\n",
    "\n",
    "# create a pipeline object that combines model with recipe\n",
    "model_pipeline = pipeline.Pipeline(steps=[\n",
    "  (\"preprocessor\", preprocessor),\n",
    "  (\"pls\", pls_mod),\n",
    "])\n",
    "\n",
    "# Create grid of hyperparameter values\n",
    "hyper_grid = {'pls__n_components': range(2, 28, 2)}\n",
    "\n",
    "# Tune a knn model using grid search\n",
    "grid_search = model_selection.GridSearchCV(\n",
    "  model_pipeline, \n",
    "  hyper_grid, \n",
    "  cv=kfold, \n",
    "  scoring=loss\n",
    "  )\n",
    "  \n",
    "results = grid_search.fit(X_train, y_train)\n",
    "\n",
    "# Best model's cross validated RMSE\n",
    "abs(results.best_score_)"
   ]
  },
  {
   "cell_type": "code",
   "execution_count": 38,
   "id": "f9ef45ae-6038-4a74-ba7f-3fb2d3a69dff",
   "metadata": {},
   "outputs": [
    {
     "data": {
      "text/plain": [
       "4"
      ]
     },
     "execution_count": 38,
     "metadata": {},
     "output_type": "execute_result"
    }
   ],
   "source": [
    "# Optimal number of components\n",
    "results.best_estimator_.get_params().get('pls__n_components')"
   ]
  },
  {
   "cell_type": "markdown",
   "id": "b60aac73-9abd-4686-a8f1-a0e3a0bab267",
   "metadata": {},
   "source": [
    "## Exercises\n",
    "\n",
    "Using the Boston housing data set where the response feature is the median value of homes within a census tract (`cmedv`):\n",
    "\n",
    "1. Pick a single feature and apply a simple linear regression model.\n",
    "   - Interpret the feature's coefficient\n",
    "   - What is the model's performance? How does it compare to the KNN in the last module?\n",
    "2. Pick another feature to add to the model.\n",
    "   - Before applying the model why do you think this feature will help?\n",
    "   - Apply a linear regression model with the two features and compare to the simple linear model.\n",
    "   - Interpret the coefficients.\n",
    "3. Now apply a model that includes all the predictors.\n",
    "   - How does this model compare to the previous two?\n",
    "4. Can you identify any model concerns?\n",
    "5. Apply a principal component regression model.\n",
    "   - Perform a grid search over several components.\n",
    "   - Identify and explain the performance of the optimal model.\n",
    "6. Now apply a partial least square model.\n",
    "   - Perform a grid search over several components.\n",
    "   - Identify and explain the performance of the optimal model."
   ]
  },
  {
   "cell_type": "code",
   "execution_count": null,
   "id": "9982b20f-ca0d-47a0-8a1f-1081ecfa2381",
   "metadata": {},
   "outputs": [],
   "source": []
  }
 ],
 "metadata": {
  "kernelspec": {
   "display_name": "Python 3.9.12",
   "language": "python",
   "name": "python3"
  },
  "language_info": {
   "codemirror_mode": {
    "name": "ipython",
    "version": 3
   },
   "file_extension": ".py",
   "mimetype": "text/x-python",
   "name": "python",
   "nbconvert_exporter": "python",
   "pygments_lexer": "ipython3",
   "version": "3.9.12"
  },
  "vscode": {
   "interpreter": {
    "hash": "ed549bf1dfff0c9e2fa63787d3c672338cbace345788ee41613d78c6db524064"
   }
  }
 },
 "nbformat": 4,
 "nbformat_minor": 5
}
