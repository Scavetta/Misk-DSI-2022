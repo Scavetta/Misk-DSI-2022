{
 "cells": [
  {
   "cell_type": "markdown",
   "id": "8129104d-de22-4fc6-833f-82c0e566f244",
   "metadata": {},
   "source": [
    "# Module 06: Regularized Regression"
   ]
  },
  {
   "cell_type": "markdown",
   "id": "5f7ce4bd-2caf-439b-a51b-11a83a7f4ec7",
   "metadata": {},
   "source": [
    "## Prerequisites"
   ]
  },
  {
   "cell_type": "code",
   "execution_count": 1,
   "id": "bc445a1b-96e1-47e5-85aa-34c1695d0033",
   "metadata": {},
   "outputs": [],
   "source": [
    "# Helper packages\n",
    "import numpy as np\n",
    "import pandas as pd\n",
    "from plotnine import *\n",
    "\n",
    "# Modeling packages\n",
    "from sklearn.model_selection import train_test_split\n",
    "from sklearn.preprocessing import OneHotEncoder, StandardScaler\n",
    "from sklearn.compose import ColumnTransformer\n",
    "from sklearn.compose import make_column_selector as selector\n",
    "from sklearn.linear_model import Ridge, Lasso, ElasticNet\n",
    "from sklearn.model_selection import GridSearchCV\n",
    "from sklearn.model_selection import KFold"
   ]
  },
  {
   "cell_type": "code",
   "execution_count": 2,
   "id": "355d9ca9-c884-4fa8-9371-e53e64fd03a5",
   "metadata": {},
   "outputs": [],
   "source": [
    "# Ames housing data\n",
    "ames = pd.read_csv(\"../../00-data/ML/ames.csv\")\n",
    "\n",
    "# create train/test split\n",
    "train, test = train_test_split(ames, train_size=0.7, random_state=123)\n",
    "\n",
    "# separate features from labels and only use numeric features\n",
    "X_train = train.drop(\"Sale_Price\", axis=1)\n",
    "y_train = train[[\"Sale_Price\"]]"
   ]
  },
  {
   "cell_type": "markdown",
   "id": "1c179ff8-41d5-40a8-b88a-4d7427b61b82",
   "metadata": {},
   "source": [
    "## Implementation"
   ]
  },
  {
   "cell_type": "markdown",
   "id": "9144ce59-199f-48d6-9480-9ea2c9c90695",
   "metadata": {},
   "source": [
    "### Ridge"
   ]
  },
  {
   "cell_type": "code",
   "execution_count": 3,
   "id": "7827d29c-21e4-4914-9bcd-763227392b80",
   "metadata": {},
   "outputs": [],
   "source": [
    "# Step 1: get features of interest\n",
    "features = X_train[[\"Gr_Liv_Area\", \"Year_Built\", \"Garage_Cars\", \"Garage_Area\"]]\n",
    "\n",
    "# Step 2: standardize features\n",
    "scaler = StandardScaler()\n",
    "X_train_scaled = scaler.fit_transform(features)\n",
    "\n",
    "# Step 3: create model object\n",
    "ridge_mod = Ridge(alpha=1)\n",
    "\n",
    "# Step 4: fit/train model\n",
    "ridge_fit = ridge_mod.fit(X_train_scaled, y_train)"
   ]
  },
  {
   "cell_type": "code",
   "execution_count": 4,
   "id": "e6db9caf-f9e6-49f0-a2b4-51e7f6943f85",
   "metadata": {},
   "outputs": [
    {
     "data": {
      "text/plain": [
       "array([[39936.69788684, 24309.03872837,  7826.82312427, 14097.84660676]])"
      ]
     },
     "execution_count": 4,
     "metadata": {},
     "output_type": "execute_result"
    }
   ],
   "source": [
    "ridge_fit.coef_"
   ]
  },
  {
   "cell_type": "markdown",
   "id": "f06deef6-e5a8-4c67-803c-e8e3b06aa9a6",
   "metadata": {},
   "source": [
    "### Lasso"
   ]
  },
  {
   "cell_type": "code",
   "execution_count": 5,
   "id": "940a9e4b-fb1c-4b27-a446-0f787d49a2de",
   "metadata": {},
   "outputs": [
    {
     "data": {
      "text/plain": [
       "array([39959.05154477, 24323.04132533,  7800.91630771, 14109.32332939])"
      ]
     },
     "execution_count": 5,
     "metadata": {},
     "output_type": "execute_result"
    }
   ],
   "source": [
    "lasso_mod = Lasso(alpha=1)\n",
    "lasso_fit = lasso_mod.fit(X_train_scaled, y_train)\n",
    "\n",
    "# fit coefficients\n",
    "lasso_fit.coef_"
   ]
  },
  {
   "cell_type": "markdown",
   "id": "6fc5c8e5-5f92-45cb-959b-37f9ef3aed7f",
   "metadata": {},
   "source": [
    "### Elastic net"
   ]
  },
  {
   "cell_type": "code",
   "execution_count": 6,
   "id": "203145cf-f1d9-4c6e-a6ab-9a033c63309d",
   "metadata": {},
   "outputs": [
    {
     "data": {
      "text/plain": [
       "array([26484.60939236, 16829.83794631, 12943.86385538, 13064.02074165])"
      ]
     },
     "execution_count": 6,
     "metadata": {},
     "output_type": "execute_result"
    }
   ],
   "source": [
    "en_mod = ElasticNet(alpha=1)\n",
    "en_fit = en_mod.fit(X_train_scaled, y_train)\n",
    "\n",
    "# fit coefficients\n",
    "en_fit.coef_"
   ]
  },
  {
   "cell_type": "markdown",
   "id": "b750e425-5b71-4adc-a7c3-f9c2672d5565",
   "metadata": {},
   "source": [
    "## Tuning"
   ]
  },
  {
   "cell_type": "markdown",
   "id": "7e6261c8-1ce7-4e15-9af1-3271d697bcc8",
   "metadata": {},
   "source": [
    "### Tuning regularization strength"
   ]
  },
  {
   "cell_type": "code",
   "execution_count": 7,
   "id": "ef2175e3-8dee-41ca-8037-bc90b2de255c",
   "metadata": {},
   "outputs": [],
   "source": [
    "# create new feature set with encoded features\n",
    "preprocessor = ColumnTransformer(\n",
    "  remainder=\"passthrough\",\n",
    "  transformers=[\n",
    "    (\"scale\", StandardScaler(), selector(dtype_include=\"number\")),\n",
    "    (\"one-hot\", OneHotEncoder(), selector(dtype_include=\"object\"))\n",
    "  ])\n",
    "\n",
    "X_train_encoded = preprocessor.fit_transform(X_train)"
   ]
  },
  {
   "cell_type": "code",
   "execution_count": 8,
   "id": "7e973e4a-e649-4f95-83a2-2496bd08a8e2",
   "metadata": {},
   "outputs": [],
   "source": [
    "# create model object\n",
    "ridge_mod = Ridge()\n",
    "\n",
    "# define loss function\n",
    "loss = 'neg_root_mean_squared_error'\n",
    "\n",
    "# create 5 fold CV object\n",
    "kfold = KFold(n_splits=5, random_state=123, shuffle=True)\n",
    "\n",
    "# Create grid of hyperparameter values\n",
    "hyper_grid = {'alpha': 10**np.linspace(10, -5, 50)*0.5}"
   ]
  },
  {
   "cell_type": "code",
   "execution_count": 9,
   "id": "79ed31c5-cc38-4a47-a914-9119b0e906e8",
   "metadata": {},
   "outputs": [
    {
     "data": {
      "text/plain": [
       "Ridge(alpha=6.628556827950554)"
      ]
     },
     "execution_count": 9,
     "metadata": {},
     "output_type": "execute_result"
    }
   ],
   "source": [
    "grid_search = GridSearchCV(ridge_mod, hyper_grid, cv=kfold, scoring=loss)\n",
    "results = grid_search.fit(X_train_encoded, y_train)\n",
    "\n",
    "# Optimal penalty parameter in grid search\n",
    "results.best_estimator_"
   ]
  },
  {
   "cell_type": "code",
   "execution_count": 10,
   "id": "69edade5-d060-41fb-9922-0781645cc8ef",
   "metadata": {},
   "outputs": [
    {
     "data": {
      "text/plain": [
       "30095.73"
      ]
     },
     "execution_count": 10,
     "metadata": {},
     "output_type": "execute_result"
    }
   ],
   "source": [
    "# Best model's cross validated RMSE\n",
    "round(abs(results.best_score_), 2)"
   ]
  },
  {
   "cell_type": "markdown",
   "id": "99cb134d-bce3-4aa2-a88c-0aa3d0a0058d",
   "metadata": {},
   "source": [
    "## Tuning regularization type & strength"
   ]
  },
  {
   "cell_type": "code",
   "execution_count": 11,
   "id": "98c3b92b-d8da-46cf-a000-0c441a9ffb24",
   "metadata": {},
   "outputs": [],
   "source": [
    "# create model object\n",
    "mod = ElasticNet(tol=0.01)\n",
    "\n",
    "# Create grid of hyperparameter values\n",
    "hyper_grid = {\n",
    "  'alpha': 10**np.linspace(10, -5, 10)*0.5,\n",
    "  'l1_ratio': (0, 0.25, 0.5, 0.75 , 1)\n",
    "  }"
   ]
  },
  {
   "cell_type": "code",
   "execution_count": 12,
   "id": "b67f980d-ad9e-41fd-adbd-560b05b39bd0",
   "metadata": {
    "collapsed": true,
    "jupyter": {
     "outputs_hidden": true
    },
    "tags": []
   },
   "outputs": [
    {
     "name": "stderr",
     "output_type": "stream",
     "text": [
      "/opt/conda/lib/python3.9/site-packages/sklearn/linear_model/_coordinate_descent.py:609: ConvergenceWarning: Objective did not converge. You might want to increase the number of iterations. Duality gap: 5488081309585.288, tolerance: 109761626319.54747\n",
      "/opt/conda/lib/python3.9/site-packages/sklearn/linear_model/_coordinate_descent.py:609: ConvergenceWarning: Objective did not converge. You might want to increase the number of iterations. Duality gap: 5314682258371.3, tolerance: 106293645290.79907\n",
      "/opt/conda/lib/python3.9/site-packages/sklearn/linear_model/_coordinate_descent.py:609: ConvergenceWarning: Objective did not converge. You might want to increase the number of iterations. Duality gap: 5396489650199.965, tolerance: 107929793130.18071\n",
      "/opt/conda/lib/python3.9/site-packages/sklearn/linear_model/_coordinate_descent.py:609: ConvergenceWarning: Objective did not converge. You might want to increase the number of iterations. Duality gap: 5465887888069.524, tolerance: 109317757889.35037\n",
      "/opt/conda/lib/python3.9/site-packages/sklearn/linear_model/_coordinate_descent.py:609: ConvergenceWarning: Objective did not converge. You might want to increase the number of iterations. Duality gap: 5157664353656.693, tolerance: 103153287196.1681\n",
      "/opt/conda/lib/python3.9/site-packages/sklearn/linear_model/_coordinate_descent.py:609: ConvergenceWarning: Objective did not converge. You might want to increase the number of iterations. Duality gap: 5488081019283.1455, tolerance: 109761626319.54747\n",
      "/opt/conda/lib/python3.9/site-packages/sklearn/linear_model/_coordinate_descent.py:609: ConvergenceWarning: Objective did not converge. You might want to increase the number of iterations. Duality gap: 5314681978216.298, tolerance: 106293645290.79907\n",
      "/opt/conda/lib/python3.9/site-packages/sklearn/linear_model/_coordinate_descent.py:609: ConvergenceWarning: Objective did not converge. You might want to increase the number of iterations. Duality gap: 5396489363667.828, tolerance: 107929793130.18071\n",
      "/opt/conda/lib/python3.9/site-packages/sklearn/linear_model/_coordinate_descent.py:609: ConvergenceWarning: Objective did not converge. You might want to increase the number of iterations. Duality gap: 5465887597498.473, tolerance: 109317757889.35037\n",
      "/opt/conda/lib/python3.9/site-packages/sklearn/linear_model/_coordinate_descent.py:609: ConvergenceWarning: Objective did not converge. You might want to increase the number of iterations. Duality gap: 5157664074271.418, tolerance: 103153287196.1681\n",
      "/opt/conda/lib/python3.9/site-packages/sklearn/linear_model/_coordinate_descent.py:609: ConvergenceWarning: Objective did not converge. You might want to increase the number of iterations. Duality gap: 5488067544697.299, tolerance: 109761626319.54747\n",
      "/opt/conda/lib/python3.9/site-packages/sklearn/linear_model/_coordinate_descent.py:609: ConvergenceWarning: Objective did not converge. You might want to increase the number of iterations. Duality gap: 5314668974616.343, tolerance: 106293645290.79907\n",
      "/opt/conda/lib/python3.9/site-packages/sklearn/linear_model/_coordinate_descent.py:609: ConvergenceWarning: Objective did not converge. You might want to increase the number of iterations. Duality gap: 5396476064068.147, tolerance: 107929793130.18071\n",
      "/opt/conda/lib/python3.9/site-packages/sklearn/linear_model/_coordinate_descent.py:609: ConvergenceWarning: Objective did not converge. You might want to increase the number of iterations. Duality gap: 5465874110430.853, tolerance: 109317757889.35037\n",
      "/opt/conda/lib/python3.9/site-packages/sklearn/linear_model/_coordinate_descent.py:609: ConvergenceWarning: Objective did not converge. You might want to increase the number of iterations. Duality gap: 5157651106398.467, tolerance: 103153287196.1681\n",
      "/opt/conda/lib/python3.9/site-packages/sklearn/linear_model/_coordinate_descent.py:609: ConvergenceWarning: Objective did not converge. You might want to increase the number of iterations. Duality gap: 5487442207478.8545, tolerance: 109761626319.54747\n",
      "/opt/conda/lib/python3.9/site-packages/sklearn/linear_model/_coordinate_descent.py:609: ConvergenceWarning: Objective did not converge. You might want to increase the number of iterations. Duality gap: 5314065494664.456, tolerance: 106293645290.79907\n",
      "/opt/conda/lib/python3.9/site-packages/sklearn/linear_model/_coordinate_descent.py:609: ConvergenceWarning: Objective did not converge. You might want to increase the number of iterations. Duality gap: 5395858845921.3955, tolerance: 107929793130.18071\n",
      "/opt/conda/lib/python3.9/site-packages/sklearn/linear_model/_coordinate_descent.py:609: ConvergenceWarning: Objective did not converge. You might want to increase the number of iterations. Duality gap: 5465248193877.323, tolerance: 109317757889.35037\n",
      "/opt/conda/lib/python3.9/site-packages/sklearn/linear_model/_coordinate_descent.py:609: ConvergenceWarning: Objective did not converge. You might want to increase the number of iterations. Duality gap: 5157049283687.758, tolerance: 103153287196.1681\n",
      "/opt/conda/lib/python3.9/site-packages/sklearn/linear_model/_coordinate_descent.py:609: ConvergenceWarning: Objective did not converge. You might want to increase the number of iterations. Duality gap: 5458625478548.87, tolerance: 109761626319.54747\n",
      "/opt/conda/lib/python3.9/site-packages/sklearn/linear_model/_coordinate_descent.py:609: ConvergenceWarning: Objective did not converge. You might want to increase the number of iterations. Duality gap: 5286254824544.74, tolerance: 106293645290.79907\n",
      "/opt/conda/lib/python3.9/site-packages/sklearn/linear_model/_coordinate_descent.py:609: ConvergenceWarning: Objective did not converge. You might want to increase the number of iterations. Duality gap: 5367412436035.951, tolerance: 107929793130.18071\n",
      "/opt/conda/lib/python3.9/site-packages/sklearn/linear_model/_coordinate_descent.py:609: ConvergenceWarning: Objective did not converge. You might want to increase the number of iterations. Duality gap: 5436404613393.145, tolerance: 109317757889.35037\n",
      "/opt/conda/lib/python3.9/site-packages/sklearn/linear_model/_coordinate_descent.py:609: ConvergenceWarning: Objective did not converge. You might want to increase the number of iterations. Duality gap: 5129313282397.453, tolerance: 103153287196.1681\n",
      "/opt/conda/lib/python3.9/site-packages/sklearn/linear_model/_coordinate_descent.py:609: ConvergenceWarning: Objective did not converge. You might want to increase the number of iterations. Duality gap: 4456652719349.801, tolerance: 109761626319.54747\n",
      "/opt/conda/lib/python3.9/site-packages/sklearn/linear_model/_coordinate_descent.py:609: ConvergenceWarning: Objective did not converge. You might want to increase the number of iterations. Duality gap: 4317813248666.9995, tolerance: 106293645290.79907\n",
      "/opt/conda/lib/python3.9/site-packages/sklearn/linear_model/_coordinate_descent.py:609: ConvergenceWarning: Objective did not converge. You might want to increase the number of iterations. Duality gap: 4373457892181.507, tolerance: 107929793130.18071\n",
      "/opt/conda/lib/python3.9/site-packages/sklearn/linear_model/_coordinate_descent.py:609: ConvergenceWarning: Objective did not converge. You might want to increase the number of iterations. Duality gap: 4433272592439.1045, tolerance: 109317757889.35037\n",
      "/opt/conda/lib/python3.9/site-packages/sklearn/linear_model/_coordinate_descent.py:609: ConvergenceWarning: Objective did not converge. You might want to increase the number of iterations. Duality gap: 4161405443595.0127, tolerance: 103153287196.1681\n",
      "/opt/conda/lib/python3.9/site-packages/sklearn/linear_model/_coordinate_descent.py:609: ConvergenceWarning: Objective did not converge. You might want to increase the number of iterations. Duality gap: 1383429107460.966, tolerance: 109761626319.54747\n",
      "/opt/conda/lib/python3.9/site-packages/sklearn/linear_model/_coordinate_descent.py:609: ConvergenceWarning: Objective did not converge. You might want to increase the number of iterations. Duality gap: 1321545686835.2363, tolerance: 106293645290.79907\n",
      "/opt/conda/lib/python3.9/site-packages/sklearn/linear_model/_coordinate_descent.py:609: ConvergenceWarning: Objective did not converge. You might want to increase the number of iterations. Duality gap: 1239616068448.1848, tolerance: 107929793130.18071\n",
      "/opt/conda/lib/python3.9/site-packages/sklearn/linear_model/_coordinate_descent.py:609: ConvergenceWarning: Objective did not converge. You might want to increase the number of iterations. Duality gap: 1353098535760.2654, tolerance: 109317757889.35037\n",
      "/opt/conda/lib/python3.9/site-packages/sklearn/linear_model/_coordinate_descent.py:609: ConvergenceWarning: Objective did not converge. You might want to increase the number of iterations. Duality gap: 1157803458786.8882, tolerance: 103153287196.1681\n",
      "/opt/conda/lib/python3.9/site-packages/sklearn/linear_model/_coordinate_descent.py:609: ConvergenceWarning: Objective did not converge. You might want to increase the number of iterations. Duality gap: 190264112884.302, tolerance: 109761626319.54747\n",
      "/opt/conda/lib/python3.9/site-packages/sklearn/linear_model/_coordinate_descent.py:609: ConvergenceWarning: Objective did not converge. You might want to increase the number of iterations. Duality gap: 643709495672.7013, tolerance: 109761626319.54747\n",
      "/opt/conda/lib/python3.9/site-packages/sklearn/linear_model/_coordinate_descent.py:609: ConvergenceWarning: Objective did not converge. You might want to increase the number of iterations. Duality gap: 602876568616.9656, tolerance: 106293645290.79907\n",
      "/opt/conda/lib/python3.9/site-packages/sklearn/linear_model/_coordinate_descent.py:609: ConvergenceWarning: Objective did not converge. You might want to increase the number of iterations. Duality gap: 533440914622.24817, tolerance: 107929793130.18071\n",
      "/opt/conda/lib/python3.9/site-packages/sklearn/linear_model/_coordinate_descent.py:609: ConvergenceWarning: Objective did not converge. You might want to increase the number of iterations. Duality gap: 633277350591.5476, tolerance: 109317757889.35037\n",
      "/opt/conda/lib/python3.9/site-packages/sklearn/linear_model/_coordinate_descent.py:609: ConvergenceWarning: Objective did not converge. You might want to increase the number of iterations. Duality gap: 488719481174.60706, tolerance: 103153287196.1681\n",
      "/opt/conda/lib/python3.9/site-packages/sklearn/linear_model/_coordinate_descent.py:609: ConvergenceWarning: Objective did not converge. You might want to increase the number of iterations. Duality gap: 495436344060.98645, tolerance: 109761626319.54747\n",
      "/opt/conda/lib/python3.9/site-packages/sklearn/linear_model/_coordinate_descent.py:609: ConvergenceWarning: Objective did not converge. You might want to increase the number of iterations. Duality gap: 465106024997.9571, tolerance: 106293645290.79907\n",
      "/opt/conda/lib/python3.9/site-packages/sklearn/linear_model/_coordinate_descent.py:609: ConvergenceWarning: Objective did not converge. You might want to increase the number of iterations. Duality gap: 407469211263.63873, tolerance: 107929793130.18071\n",
      "/opt/conda/lib/python3.9/site-packages/sklearn/linear_model/_coordinate_descent.py:609: ConvergenceWarning: Objective did not converge. You might want to increase the number of iterations. Duality gap: 493820810243.8788, tolerance: 109317757889.35037\n",
      "/opt/conda/lib/python3.9/site-packages/sklearn/linear_model/_coordinate_descent.py:609: ConvergenceWarning: Objective did not converge. You might want to increase the number of iterations. Duality gap: 363646163752.2812, tolerance: 103153287196.1681\n",
      "/opt/conda/lib/python3.9/site-packages/sklearn/linear_model/_coordinate_descent.py:609: ConvergenceWarning: Objective did not converge. You might want to increase the number of iterations. Duality gap: 134107030394.1818, tolerance: 109761626319.54747\n",
      "/opt/conda/lib/python3.9/site-packages/sklearn/linear_model/_coordinate_descent.py:609: ConvergenceWarning: Objective did not converge. You might want to increase the number of iterations. Duality gap: 194272437281.7874, tolerance: 106293645290.79907\n",
      "/opt/conda/lib/python3.9/site-packages/sklearn/linear_model/_coordinate_descent.py:609: ConvergenceWarning: Objective did not converge. You might want to increase the number of iterations. Duality gap: 147873438639.01495, tolerance: 107929793130.18071\n",
      "/opt/conda/lib/python3.9/site-packages/sklearn/linear_model/_coordinate_descent.py:609: ConvergenceWarning: Objective did not converge. You might want to increase the number of iterations. Duality gap: 163280065069.11343, tolerance: 109317757889.35037\n",
      "/opt/conda/lib/python3.9/site-packages/sklearn/linear_model/_coordinate_descent.py:609: ConvergenceWarning: Objective did not converge. You might want to increase the number of iterations. Duality gap: 221258299098.3329, tolerance: 103153287196.1681\n",
      "/opt/conda/lib/python3.9/site-packages/sklearn/linear_model/_coordinate_descent.py:609: ConvergenceWarning: Objective did not converge. You might want to increase the number of iterations. Duality gap: 391903253048.93384, tolerance: 109761626319.54747\n",
      "/opt/conda/lib/python3.9/site-packages/sklearn/linear_model/_coordinate_descent.py:609: ConvergenceWarning: Objective did not converge. You might want to increase the number of iterations. Duality gap: 377807349771.4583, tolerance: 106293645290.79907\n",
      "/opt/conda/lib/python3.9/site-packages/sklearn/linear_model/_coordinate_descent.py:609: ConvergenceWarning: Objective did not converge. You might want to increase the number of iterations. Duality gap: 348234193663.33405, tolerance: 107929793130.18071\n",
      "/opt/conda/lib/python3.9/site-packages/sklearn/linear_model/_coordinate_descent.py:609: ConvergenceWarning: Objective did not converge. You might want to increase the number of iterations. Duality gap: 389551470590.5114, tolerance: 109317757889.35037\n",
      "/opt/conda/lib/python3.9/site-packages/sklearn/linear_model/_coordinate_descent.py:609: ConvergenceWarning: Objective did not converge. You might want to increase the number of iterations. Duality gap: 300217179036.33813, tolerance: 103153287196.1681\n",
      "/opt/conda/lib/python3.9/site-packages/sklearn/linear_model/_coordinate_descent.py:609: ConvergenceWarning: Objective did not converge. You might want to increase the number of iterations. Duality gap: 380492548189.6141, tolerance: 109761626319.54747\n",
      "/opt/conda/lib/python3.9/site-packages/sklearn/linear_model/_coordinate_descent.py:609: ConvergenceWarning: Objective did not converge. You might want to increase the number of iterations. Duality gap: 366919386602.36505, tolerance: 106293645290.79907\n",
      "/opt/conda/lib/python3.9/site-packages/sklearn/linear_model/_coordinate_descent.py:609: ConvergenceWarning: Objective did not converge. You might want to increase the number of iterations. Duality gap: 341104889386.94226, tolerance: 107929793130.18071\n",
      "/opt/conda/lib/python3.9/site-packages/sklearn/linear_model/_coordinate_descent.py:609: ConvergenceWarning: Objective did not converge. You might want to increase the number of iterations. Duality gap: 378543991449.3208, tolerance: 109317757889.35037\n",
      "/opt/conda/lib/python3.9/site-packages/sklearn/linear_model/_coordinate_descent.py:609: ConvergenceWarning: Objective did not converge. You might want to increase the number of iterations. Duality gap: 291969606766.3982, tolerance: 103153287196.1681\n",
      "/opt/conda/lib/python3.9/site-packages/sklearn/linear_model/_coordinate_descent.py:609: ConvergenceWarning: Objective did not converge. You might want to increase the number of iterations. Duality gap: 366463054601.884, tolerance: 109761626319.54747\n",
      "/opt/conda/lib/python3.9/site-packages/sklearn/linear_model/_coordinate_descent.py:609: ConvergenceWarning: Objective did not converge. You might want to increase the number of iterations. Duality gap: 353095601159.0873, tolerance: 106293645290.79907\n",
      "/opt/conda/lib/python3.9/site-packages/sklearn/linear_model/_coordinate_descent.py:609: ConvergenceWarning: Objective did not converge. You might want to increase the number of iterations. Duality gap: 332624465499.6524, tolerance: 107929793130.18071\n",
      "/opt/conda/lib/python3.9/site-packages/sklearn/linear_model/_coordinate_descent.py:609: ConvergenceWarning: Objective did not converge. You might want to increase the number of iterations. Duality gap: 365120031716.3071, tolerance: 109317757889.35037\n",
      "/opt/conda/lib/python3.9/site-packages/sklearn/linear_model/_coordinate_descent.py:609: ConvergenceWarning: Objective did not converge. You might want to increase the number of iterations. Duality gap: 282040383322.9374, tolerance: 103153287196.1681\n",
      "/opt/conda/lib/python3.9/site-packages/sklearn/linear_model/_coordinate_descent.py:609: ConvergenceWarning: Objective did not converge. You might want to increase the number of iterations. Duality gap: 347953262875.1968, tolerance: 109761626319.54747\n",
      "/opt/conda/lib/python3.9/site-packages/sklearn/linear_model/_coordinate_descent.py:609: ConvergenceWarning: Objective did not converge. You might want to increase the number of iterations. Duality gap: 333809162184.49646, tolerance: 106293645290.79907\n",
      "/opt/conda/lib/python3.9/site-packages/sklearn/linear_model/_coordinate_descent.py:609: ConvergenceWarning: Objective did not converge. You might want to increase the number of iterations. Duality gap: 321952214362.79535, tolerance: 107929793130.18071\n",
      "/opt/conda/lib/python3.9/site-packages/sklearn/linear_model/_coordinate_descent.py:609: ConvergenceWarning: Objective did not converge. You might want to increase the number of iterations. Duality gap: 347489324093.64935, tolerance: 109317757889.35037\n",
      "/opt/conda/lib/python3.9/site-packages/sklearn/linear_model/_coordinate_descent.py:609: ConvergenceWarning: Objective did not converge. You might want to increase the number of iterations. Duality gap: 269525449110.38678, tolerance: 103153287196.1681\n",
      "/opt/conda/lib/python3.9/site-packages/sklearn/linear_model/_coordinate_descent.py:609: ConvergenceWarning: Objective did not converge. You might want to increase the number of iterations. Duality gap: 292916446134.7483, tolerance: 106293645290.79907\n",
      "/opt/conda/lib/python3.9/site-packages/sklearn/linear_model/_coordinate_descent.py:609: ConvergenceWarning: Objective did not converge. You might want to increase the number of iterations. Duality gap: 134227999765.50534, tolerance: 107929793130.18071\n",
      "/opt/conda/lib/python3.9/site-packages/sklearn/linear_model/_coordinate_descent.py:609: ConvergenceWarning: Objective did not converge. You might want to increase the number of iterations. Duality gap: 162724731937.39655, tolerance: 109317757889.35037\n",
      "/opt/conda/lib/python3.9/site-packages/sklearn/linear_model/_coordinate_descent.py:609: ConvergenceWarning: Objective did not converge. You might want to increase the number of iterations. Duality gap: 251567469621.5421, tolerance: 103153287196.1681\n",
      "/opt/conda/lib/python3.9/site-packages/sklearn/linear_model/_coordinate_descent.py:609: ConvergenceWarning: Objective did not converge. You might want to increase the number of iterations. Duality gap: 323080235227.8908, tolerance: 109761626319.54747\n",
      "/opt/conda/lib/python3.9/site-packages/sklearn/linear_model/_coordinate_descent.py:609: ConvergenceWarning: Objective did not converge. You might want to increase the number of iterations. Duality gap: 304440504239.61487, tolerance: 106293645290.79907\n",
      "/opt/conda/lib/python3.9/site-packages/sklearn/linear_model/_coordinate_descent.py:609: ConvergenceWarning: Objective did not converge. You might want to increase the number of iterations. Duality gap: 308810684484.1447, tolerance: 107929793130.18071\n",
      "/opt/conda/lib/python3.9/site-packages/sklearn/linear_model/_coordinate_descent.py:609: ConvergenceWarning: Objective did not converge. You might want to increase the number of iterations. Duality gap: 323064454957.63885, tolerance: 109317757889.35037\n",
      "/opt/conda/lib/python3.9/site-packages/sklearn/linear_model/_coordinate_descent.py:609: ConvergenceWarning: Objective did not converge. You might want to increase the number of iterations. Duality gap: 254009476123.17386, tolerance: 103153287196.1681\n",
      "/opt/conda/lib/python3.9/site-packages/sklearn/linear_model/_coordinate_descent.py:609: ConvergenceWarning: Objective did not converge. You might want to increase the number of iterations. Duality gap: 322322574417.3982, tolerance: 109761626319.54747\n",
      "/opt/conda/lib/python3.9/site-packages/sklearn/linear_model/_coordinate_descent.py:609: ConvergenceWarning: Objective did not converge. You might want to increase the number of iterations. Duality gap: 303442069419.0019, tolerance: 106293645290.79907\n",
      "/opt/conda/lib/python3.9/site-packages/sklearn/linear_model/_coordinate_descent.py:609: ConvergenceWarning: Objective did not converge. You might want to increase the number of iterations. Duality gap: 308429372926.39087, tolerance: 107929793130.18071\n",
      "/opt/conda/lib/python3.9/site-packages/sklearn/linear_model/_coordinate_descent.py:609: ConvergenceWarning: Objective did not converge. You might want to increase the number of iterations. Duality gap: 322280303833.85077, tolerance: 109317757889.35037\n",
      "/opt/conda/lib/python3.9/site-packages/sklearn/linear_model/_coordinate_descent.py:609: ConvergenceWarning: Objective did not converge. You might want to increase the number of iterations. Duality gap: 253517268623.56094, tolerance: 103153287196.1681\n",
      "/opt/conda/lib/python3.9/site-packages/sklearn/linear_model/_coordinate_descent.py:609: ConvergenceWarning: Objective did not converge. You might want to increase the number of iterations. Duality gap: 321545875524.2325, tolerance: 109761626319.54747\n",
      "/opt/conda/lib/python3.9/site-packages/sklearn/linear_model/_coordinate_descent.py:609: ConvergenceWarning: Objective did not converge. You might want to increase the number of iterations. Duality gap: 302415716911.05994, tolerance: 106293645290.79907\n",
      "/opt/conda/lib/python3.9/site-packages/sklearn/linear_model/_coordinate_descent.py:609: ConvergenceWarning: Objective did not converge. You might want to increase the number of iterations. Duality gap: 308032215231.10394, tolerance: 107929793130.18071\n",
      "/opt/conda/lib/python3.9/site-packages/sklearn/linear_model/_coordinate_descent.py:609: ConvergenceWarning: Objective did not converge. You might want to increase the number of iterations. Duality gap: 321476973971.75055, tolerance: 109317757889.35037\n",
      "/opt/conda/lib/python3.9/site-packages/sklearn/linear_model/_coordinate_descent.py:609: ConvergenceWarning: Objective did not converge. You might want to increase the number of iterations. Duality gap: 253005023766.42972, tolerance: 103153287196.1681\n",
      "/opt/conda/lib/python3.9/site-packages/sklearn/linear_model/_coordinate_descent.py:609: ConvergenceWarning: Objective did not converge. You might want to increase the number of iterations. Duality gap: 320738468070.29315, tolerance: 109761626319.54747\n",
      "/opt/conda/lib/python3.9/site-packages/sklearn/linear_model/_coordinate_descent.py:609: ConvergenceWarning: Objective did not converge. You might want to increase the number of iterations. Duality gap: 301359875253.49976, tolerance: 106293645290.79907\n",
      "/opt/conda/lib/python3.9/site-packages/sklearn/linear_model/_coordinate_descent.py:609: ConvergenceWarning: Objective did not converge. You might want to increase the number of iterations. Duality gap: 307608485043.5207, tolerance: 107929793130.18071\n",
      "/opt/conda/lib/python3.9/site-packages/sklearn/linear_model/_coordinate_descent.py:609: ConvergenceWarning: Objective did not converge. You might want to increase the number of iterations. Duality gap: 320643561228.7377, tolerance: 109317757889.35037\n",
      "/opt/conda/lib/python3.9/site-packages/sklearn/linear_model/_coordinate_descent.py:609: ConvergenceWarning: Objective did not converge. You might want to increase the number of iterations. Duality gap: 252464590617.55573, tolerance: 103153287196.1681\n",
      "/opt/conda/lib/python3.9/site-packages/sklearn/linear_model/_coordinate_descent.py:609: ConvergenceWarning: Objective did not converge. You might want to increase the number of iterations. Duality gap: 300047476729.62866, tolerance: 106293645290.79907\n",
      "/opt/conda/lib/python3.9/site-packages/sklearn/linear_model/_coordinate_descent.py:609: ConvergenceWarning: Objective did not converge. You might want to increase the number of iterations. Duality gap: 288571563061.00464, tolerance: 107929793130.18071\n",
      "/opt/conda/lib/python3.9/site-packages/sklearn/linear_model/_coordinate_descent.py:609: ConvergenceWarning: Objective did not converge. You might want to increase the number of iterations. Duality gap: 237046601813.8946, tolerance: 109317757889.35037\n",
      "/opt/conda/lib/python3.9/site-packages/sklearn/linear_model/_coordinate_descent.py:609: ConvergenceWarning: Objective did not converge. You might want to increase the number of iterations. Duality gap: 251853705784.619, tolerance: 103153287196.1681\n"
     ]
    },
    {
     "data": {
      "text/plain": [
       "ElasticNet(alpha=23.207944168063865, l1_ratio=1, tol=0.01)"
      ]
     },
     "execution_count": 12,
     "metadata": {},
     "output_type": "execute_result"
    }
   ],
   "source": [
    "# 5-fold CV grid search\n",
    "grid_search = GridSearchCV(mod, hyper_grid, cv=kfold, scoring=loss)\n",
    "results = grid_search.fit(X_train_encoded, y_train)\n",
    "\n",
    "# Optimal penalty parameter in grid search\n",
    "results.best_estimator_"
   ]
  },
  {
   "cell_type": "code",
   "execution_count": 13,
   "id": "78b60c18-eb95-4222-b9c0-3bc4e5bac95d",
   "metadata": {
    "tags": []
   },
   "outputs": [
    {
     "data": {
      "text/plain": [
       "29552.31"
      ]
     },
     "execution_count": 13,
     "metadata": {},
     "output_type": "execute_result"
    }
   ],
   "source": [
    "# Best model's cross validated RMSE\n",
    "round(abs(results.best_score_), 2)"
   ]
  },
  {
   "cell_type": "markdown",
   "id": "124eb66a-e61e-4d15-be5d-4186353fca1c",
   "metadata": {},
   "source": [
    "## Feature importance"
   ]
  },
  {
   "cell_type": "code",
   "execution_count": 14,
   "id": "88b14f87-c2f1-419d-87ee-f38dda9a3c01",
   "metadata": {},
   "outputs": [
    {
     "name": "stderr",
     "output_type": "stream",
     "text": [
      "/opt/conda/lib/python3.9/site-packages/sklearn/utils/deprecation.py:87: FutureWarning: Function get_feature_names is deprecated; get_feature_names is deprecated in 1.0 and will be removed in 1.2. Please use get_feature_names_out instead.\n"
     ]
    },
    {
     "data": {
      "text/html": [
       "<div>\n",
       "<style scoped>\n",
       "    .dataframe tbody tr th:only-of-type {\n",
       "        vertical-align: middle;\n",
       "    }\n",
       "\n",
       "    .dataframe tbody tr th {\n",
       "        vertical-align: top;\n",
       "    }\n",
       "\n",
       "    .dataframe thead th {\n",
       "        text-align: right;\n",
       "    }\n",
       "</style>\n",
       "<table border=\"1\" class=\"dataframe\">\n",
       "  <thead>\n",
       "    <tr style=\"text-align: right;\">\n",
       "      <th></th>\n",
       "      <th>feature</th>\n",
       "      <th>coef</th>\n",
       "      <th>abs_coef</th>\n",
       "      <th>impact</th>\n",
       "    </tr>\n",
       "  </thead>\n",
       "  <tbody>\n",
       "    <tr>\n",
       "      <th>163</th>\n",
       "      <td>one-hot__x19_Stone</td>\n",
       "      <td>-550233.433278</td>\n",
       "      <td>550233.433278</td>\n",
       "      <td>negative</td>\n",
       "    </tr>\n",
       "    <tr>\n",
       "      <th>327</th>\n",
       "      <td>Bsmt_Full_Bath</td>\n",
       "      <td>-390163.485390</td>\n",
       "      <td>390163.485390</td>\n",
       "      <td>negative</td>\n",
       "    </tr>\n",
       "    <tr>\n",
       "      <th>121</th>\n",
       "      <td>one-hot__x15_Very_Good</td>\n",
       "      <td>-117117.158839</td>\n",
       "      <td>117117.158839</td>\n",
       "      <td>negative</td>\n",
       "    </tr>\n",
       "    <tr>\n",
       "      <th>89</th>\n",
       "      <td>one-hot__x11_RRAn</td>\n",
       "      <td>99099.308207</td>\n",
       "      <td>99099.308207</td>\n",
       "      <td>positive</td>\n",
       "    </tr>\n",
       "    <tr>\n",
       "      <th>317</th>\n",
       "      <td>Year_Remod_Add</td>\n",
       "      <td>80523.104479</td>\n",
       "      <td>80523.104479</td>\n",
       "      <td>positive</td>\n",
       "    </tr>\n",
       "  </tbody>\n",
       "</table>\n",
       "</div>"
      ],
      "text/plain": [
       "                    feature           coef       abs_coef    impact\n",
       "163      one-hot__x19_Stone -550233.433278  550233.433278  negative\n",
       "327          Bsmt_Full_Bath -390163.485390  390163.485390  negative\n",
       "121  one-hot__x15_Very_Good -117117.158839  117117.158839  negative\n",
       "89        one-hot__x11_RRAn   99099.308207   99099.308207  positive\n",
       "317          Year_Remod_Add   80523.104479   80523.104479  positive"
      ]
     },
     "execution_count": 14,
     "metadata": {},
     "output_type": "execute_result"
    }
   ],
   "source": [
    "# get feature names\n",
    "feat_names = ColumnTransformer(\n",
    "  remainder=\"passthrough\",\n",
    "  transformers=[\n",
    "      (\"one-hot\", OneHotEncoder(), selector(dtype_include=\"object\"))\n",
    "  ]).fit(X_train).get_feature_names()\n",
    "\n",
    "# create DataFrame with feature name and coefficients from best model\n",
    "coef = pd.DataFrame({'feature': feat_names,\n",
    "                     'coef': results.best_estimator_.coef_})\n",
    "\n",
    "# filter for the top 25\n",
    "coef['abs_coef'] = coef['coef'].abs()\n",
    "coef['impact'] = np.where(coef['coef']>0, 'positive', 'negative')\n",
    "\n",
    "top_25_features = coef.nlargest(25, 'abs_coef')\n",
    "top_25_features.head()"
   ]
  },
  {
   "cell_type": "code",
   "execution_count": 15,
   "id": "b68187e3-6c33-4717-8e16-6ed5953120a0",
   "metadata": {},
   "outputs": [
    {
     "data": {
      "image/png": "[encoded data removed]",
      "text/plain": [
       "<Figure size 640x480 with 1 Axes>"
      ]
     },
     "metadata": {},
     "output_type": "display_data"
    },
    {
     "data": {
      "text/plain": [
       "<ggplot: (17592034321568)>"
      ]
     },
     "execution_count": 15,
     "metadata": {},
     "output_type": "execute_result"
    }
   ],
   "source": [
    "(ggplot(top_25_features, aes(x='abs_coef', y='reorder(feature, abs_coef)', color='impact', fill='impact'))\n",
    " + geom_point()\n",
    " + labs(y=None))"
   ]
  },
  {
   "cell_type": "markdown",
   "id": "2145f587-9306-45d9-8f70-dd20d8e9fc18",
   "metadata": {},
   "source": [
    "## Exercises"
   ]
  },
  {
   "cell_type": "markdown",
   "id": "d90e6662-1c10-4ca7-a162-d5f81e264f90",
   "metadata": {},
   "source": [
    "Using the boston housing dataset:\n",
    "\n",
    "1. Apply a ridge model with glmnet with `medv` being the response variable.\n",
    "   - What is the minimum MSE?\n",
    "   - What is the minimum MSE within 1 standard error?\n",
    "   - What are the lambda values for these MSEs?\n",
    "2. Apply a lasso model with glmnet.\n",
    "   - What is the minimum MSE?\n",
    "   - What is the minimum MSE within 1 standard error?\n",
    "   - What are the lambda values for these MSEs?\n",
    "3. Perform a grid search across alpha parameter values ranging between 0–1.\n",
    "   - What is the optimal alpha and lambda values?\n",
    "   - What is the MSE and RMSE for this optimal model?\n",
    "   - How does it compare to your previous models?\n",
    "4. Plot the top 10 most influential features. Do these features have positive or negative impacts on your response variable?"
   ]
  },
  {
   "cell_type": "code",
   "execution_count": null,
   "id": "032633ff-dd96-4515-adc6-9dac5810906d",
   "metadata": {},
   "outputs": [],
   "source": []
  }
 ],
 "metadata": {
  "kernelspec": {
   "display_name": "Python 3.9.12",
   "language": "python",
   "name": "python3"
  },
  "language_info": {
   "codemirror_mode": {
    "name": "ipython",
    "version": 3
   },
   "file_extension": ".py",
   "mimetype": "text/x-python",
   "name": "python",
   "nbconvert_exporter": "python",
   "pygments_lexer": "ipython3",
   "version": "3.9.12"
  },
  "vscode": {
   "interpreter": {
    "hash": "ed549bf1dfff0c9e2fa63787d3c672338cbace345788ee41613d78c6db524064"
   }
  }
 },
 "nbformat": 4,
 "nbformat_minor": 5
}
